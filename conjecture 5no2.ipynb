{
 "cells": [
  {
   "cell_type": "code",
   "execution_count": 1,
   "metadata": {},
   "outputs": [],
   "source": [
    "# Uses code from 'make j from scratch'\n",
    "D.<x> = PolynomialRing(QQ)\n",
    "R.<x> = PolynomialRing(QQ)\n",
    "S = PowerSeriesRing(QQ,'x', default_prec=300)\n",
    "L=LaurentSeriesRing(QQ,'x', default_prec=300)\n",
    "#S.<x,y>=PowerSeriesRing(QQ,default_prec=300)\n",
    "# Using \"R = PolynomialRing(QQ,'x')\" produces an error.\n",
    "# Yet using S as defined here is fine (see definition of Fraleigh4 below)\n",
    "# But S = PowerSeriesRing(QQ,'x','y') also produces an error.\n",
    "def pochhammer(x,n):\n",
    "    return product ([x+k for k in [0..n-1]])\n",
    "def cRaleigh2(alpha,beta,nu):\n",
    "    pchhmrA = pochhammer(alpha,nu)\n",
    "    pchhmrB = pochhammer(beta,nu)\n",
    "    fnu=factorial(nu)\n",
    "    answer = D(pchhmrA*pchhmrB/fnu^2)\n",
    "    return answer\n",
    "def term(alpha,beta,p):\n",
    "    return D(1/(alpha + p) + 1/(beta + p) - 2/(1 + p))\n",
    "def eRaleigh(alpha, beta, nu):\n",
    "    return D(sum([term(alpha, beta, p) for p in [0..nu - 1]]))\n",
    "def FstarRaleigh2(alpha,beta,u,terms):\n",
    "    fsr = sum([cRaleigh2(alpha, beta, nu)*eRaleigh(alpha,beta,nu)*u^nu for nu in [1..terms]])\n",
    "    return D(fsr)\n",
    "def Fraleigh2(alpha,beta,u,terms): \n",
    "    return D(sum([cRaleigh2(alpha,beta,nu)*u^nu for nu in [0..terms]]))\n",
    "def FstarRaleigh3(n,m,x):\n",
    "    alpha = (1/2-1/m)/2\n",
    "    beta = (1/2+1/m)/2\n",
    "    fsr2 = FstarRaleigh2(alpha,beta,x,n)\n",
    "    return D(fsr2)\n",
    "def Fraleigh4(n,m,x):\n",
    "    alpha = (1/2-1/m)/2\n",
    "    beta = (1/2+1/m)/2\n",
    "    fr2 = Fraleigh2(alpha,beta,x,n)\n",
    "    return D(fr2)\n",
    "def exNo3c(n,m):\n",
    "    a1 = S(x)*exp(S(FstarRaleigh3(n,m,x)/Fraleigh4(n,m,x))).O(2*n)\n",
    "    # S(x) instead of x in df of a1 to avoid an error message\n",
    "    # after use of the stripQuotationMarks command below.\n",
    "    a2 = S(a1).O(n+1)\n",
    "    return a2 # applying S to argument of exp is key.\n",
    "def J(n,m):\n",
    "    exn = exNo3c(n+2,m)\n",
    "    jnm = 1/exn.reverse()\n",
    "    return jnm.O(n+1) # Jtest is faster than J, and they agree.\n",
    "def normalJ(n,m):\n",
    "    f = J(n,m)\n",
    "    return f.truncate(n+1)\n",
    "def Jcoefficient(n,m):\n",
    "    f = J(n+2,m)\n",
    "    f1 = f.truncate(n+1)\n",
    "    f1=f1.list()\n",
    "    f1=Set(f1)\n",
    "    g1 = f.truncate(n)\n",
    "    g1 = g1.list()\n",
    "    g1 = set(g1)\n",
    "    h = f1.difference(g1)\n",
    "    h = h.list()\n",
    "    return h[0]\n",
    "def xjNew(n,m):\n",
    "    def xjNewStep(n,m):\n",
    "        f=J(n,m)\n",
    "        fl=f.list()\n",
    "        rt=0\n",
    "        for i in [0..len(fl)-1]:\n",
    "            rt=rt+fl[i]*x**i*(m**3*2**6)**i\n",
    "        return rt\n",
    "    return xjNewStep(n-1,m)\n",
    "def j(n,m):return L(xjNew(n,m)/x)\n",
    "\n",
    "def HsubIstrike(n,m):\n",
    "    jay = J(n+1,m)\n",
    "    numerator = x^m*derivative(jay,x)^m\n",
    "    denominator = jay^(m-1)*(jay-1)\n",
    "    power=1/(m-2)\n",
    "    answer0=S((numerator/denominator)^power).truncate(n).polynomial(x)\n",
    "    al=answer0.list()\n",
    "    dg=answer0.degree()\n",
    "    sm=sum(al[k]*(2^6*m^3*x)^k for k in [0..dg])*(-1)^m\n",
    "    return sm\n",
    "\n",
    "def polynomialCoefficient(n,poly):\n",
    "    return poly.list()[n]\n",
    "def leadingCoefficient(polynomial):\n",
    "    dg=polynomial.degree()\n",
    "    return polynomialCoefficient(dg,polynomial)\n",
    "def factorpairToFactor(factorpair):\n",
    "    (monomial,exponent)=factorpair\n",
    "    return monomial^exponent\n",
    "def numericalfactor(polynomial):\n",
    "    fp=polynomial.factor()\n",
    "    lst=[factorpairToFactor(factorpair) for factorpair in fp]\n",
    "    return polynomial/product(lst)\n",
    "def firstfactor(polynomial):\n",
    "    fp=polynomial.factor()\n",
    "    fp=FiniteEnumeratedSet(fp)\n",
    "    return factorpairToFactor(fp.first())\n",
    "def lastfactor(polynomial):\n",
    "    fp=polynomial.factor()\n",
    "    fp=FiniteEnumeratedSet(fp)\n",
    "    return factorpairToFactor(fp.last())\n",
    "def reduced(polynomial):\n",
    "    return numericalfactor(polynomial)*lastfactor(polynomial)\n",
    "def stripQuotationMarks(string):\n",
    "    var('x')\n",
    "    return sage_eval(string,locals={'x':x})\n",
    "def sigmaOdd(n):\n",
    "    sum=0\n",
    "    dvs=divisors(n)\n",
    "    lnth=len(dvs)\n",
    "    for k in [0..lnth-1]:\n",
    "        dv=dvs[k]\n",
    "        if mod(dv,2)==1:\n",
    "            sum=sum+dv\n",
    "    return sum"
   ]
  },
  {
   "cell_type": "code",
   "execution_count": 2,
   "metadata": {},
   "outputs": [
    {
     "data": {
      "text/plain": [
       "x^-1 + 744 + 196884*x + 21493760*x^2 + 864299970*x^3 + 20245856256*x^4 + 333202640600*x^5 + 4252023300096*x^6 + 44656994071935*x^7 + 401490886656000*x^8 + 3176440229784420*x^9"
      ]
     },
     "execution_count": 2,
     "metadata": {},
     "output_type": "execute_result"
    }
   ],
   "source": [
    "j(10,3)"
   ]
  },
  {
   "cell_type": "code",
   "execution_count": 2,
   "metadata": {},
   "outputs": [
    {
     "name": "stdout",
     "output_type": "stream",
     "text": [
      "-532728*x^4 - 122976*x^3 - 16632*x^2 - 504*x + 1\n",
      "\n",
      "-193986560*x^4 - 9175040*x^3 - 102400*x^2 - 1280*x + 1\n",
      "\n",
      "-29091725000/3*x^4 - 276380000/3*x^3 - 351000*x^2 - 2600*x + 1\n",
      "\n",
      "-125627793408*x^4 - 528482304*x^3 - 884736*x^2 - 4608*x + 1\n",
      "\n"
     ]
    }
   ],
   "source": [
    "n=5\n",
    "for m in [3..6]:\n",
    "    print HsubIstrike(n,m) # will have to normalize these to obtain \"valid\" interpolating polynomials.\n",
    "    print"
   ]
  },
  {
   "cell_type": "code",
   "execution_count": 4,
   "metadata": {},
   "outputs": [
    {
     "name": "stdout",
     "output_type": "stream",
     "text": [
      "532728*x^4 + 122976*x^3 + 16632*x^2 + 504*x - 1\n",
      "\n",
      "-193986560*x^4 - 9175040*x^3 - 102400*x^2 - 1280*x + 1\n",
      "\n",
      "29091725000/3*x^4 + 276380000/3*x^3 + 351000*x^2 + 2600*x - 1\n",
      "\n",
      "-125627793408*x^4 - 528482304*x^3 - 884736*x^2 - 4608*x + 1\n",
      "\n"
     ]
    }
   ],
   "source": [
    "n=5\n",
    "for m in [3..6]:\n",
    "    print HsubIstrike(n,m)*(-1)^m\n",
    "    print"
   ]
  },
  {
   "cell_type": "code",
   "execution_count": null,
   "metadata": {},
   "outputs": [],
   "source": [
    "# print output snipped.\n",
    "import pickle\n",
    "import time\n",
    "wfile=open('/Users/barrybrent/run11aug21no6.txt','w')\n",
    "data=[]\n",
    "start=time.time()/60\n",
    "for m in [3..323]:\n",
    "    poly=HsubIstrike(101,m)\n",
    "    data=data+[[m,poly]]\n",
    "    finish=time.time()/60\n",
    "    print([m,poly.degree(),finish-start])\n",
    "t = pickle.dumps(str(data))\n",
    "wfile.write(t)\n",
    "wfile.close()"
   ]
  },
  {
   "cell_type": "code",
   "execution_count": null,
   "metadata": {},
   "outputs": [],
   "source": [
    "# print output snipped.\n",
    "rfile=open('/Users/barrybrent/run11aug21no6.txt','r')\n",
    "rs=pickle.load(rfile)\n",
    "rfile.close()\n",
    "s=stripQuotationMarks(rs)\n",
    "\n",
    "\n",
    "wfile = open('/Users/barrybrent/run11jaug21no8.txt','w') #HsubIstrike polynomials\n",
    "polydata=[]\n",
    "start=time.time()/60\n",
    "for n in [0..100]:\n",
    "    data=[]\n",
    "    for k in [0..len(s)-1]:\n",
    "        m = s[k][0]\n",
    "        poly=s[k][1]\n",
    "        cf=polynomialCoefficient(n,poly)\n",
    "        data=data+[[m,cf]]\n",
    "    rl=R.lagrange_polynomial(data)\n",
    "    poly=rl.polynomial(x)\n",
    "    polydata=polydata+[[n,poly]] \n",
    "    finish=time.time()/60\n",
    "    print(n,poly.degree(),finish-start)\n",
    "t = pickle.dumps(str(polydata))\n",
    "wfile.write(t)\n",
    "wfile.close()"
   ]
  },
  {
   "cell_type": "code",
   "execution_count": 6,
   "metadata": {},
   "outputs": [
    {
     "name": "stdout",
     "output_type": "stream",
     "text": [
      "[0, 0, 0, 0, 0, 0, 0, 0, 0, 0, 0, 0, 0, 0, 0, 0, 0, 0, 0, 0, 0, 0, 0, 0, 0, 0, 0, 0, 0, 0, 0, 0, 0, 0, 0, 0, 0, 0, 0, 0, 0, 0, 0, 0, 0, 0, 0, 0, 0, 0, 0, 0, 0, 0, 0, 0, 0, 0, 0, 0, 0, 0, 0, 0, 0, 0, 0, 0, 0, 0, 0, 0, 0, 0, 0, 0, 0, 0, 0, 0, 0, 0, 0, 0, 0, 0, 0, 0, 0, 0, 0, 0, 0, 0, 0, 0, 0, 0, 0, 0]\n"
     ]
    }
   ],
   "source": [
    "import pickle\n",
    "rfile = open('/Users/barrybrent/run11jaug21no8.txt','r') #HsubIstrike polynomials\n",
    "rs=pickle.load(rfile)\n",
    "rfile.close()\n",
    "s=stripQuotationMarks(rs)\n",
    "data=[]\n",
    "for k in [1..len(s)-1]:\n",
    "    n=s[k][0]\n",
    "    poly=D(s[k][1])\n",
    "    dg=poly.degree() # under D coercion, degree.() takes no argument.\n",
    "    data=data+[3*n-dg]\n",
    "print data"
   ]
  },
  {
   "cell_type": "code",
   "execution_count": 2,
   "metadata": {},
   "outputs": [
    {
     "name": "stdout",
     "output_type": "stream",
     "text": [
      "[1, -504, -16632, -122976, -532728, -1575504, -4058208, -8471232, -17047800, -29883672]\n"
     ]
    }
   ],
   "source": [
    "f=D(HsubIstrike(10,3))\n",
    "print f.list()"
   ]
  },
  {
   "cell_type": "code",
   "execution_count": 4,
   "metadata": {},
   "outputs": [
    {
     "data": {
      "text/plain": [
       "(1, 1)"
      ]
     },
     "execution_count": 4,
     "metadata": {},
     "output_type": "execute_result"
    }
   ],
   "source": [
    "vector([2,2])-vector([1,1])"
   ]
  },
  {
   "cell_type": "code",
   "execution_count": 11,
   "metadata": {},
   "outputs": [
    {
     "name": "stdout",
     "output_type": "stream",
     "text": [
      "(1, -504, -16632, -122976, -532728, -1575504, -4058208, -8471232, -17047800, -29883672)\n",
      "(0, 0, 0, 0, 0, 0, 0, 0, 0, 0)\n"
     ]
    }
   ],
   "source": [
    "f=D(HsubIstrike(10,3))\n",
    "fl= vector(f.list())\n",
    "dvs=[1];\n",
    "for n in [1..9]:\n",
    "    dvs=dvs+[-504*sigma(n,5)]\n",
    "dvs=vector(dvs)\n",
    "print dvs\n",
    "print dvs-fl"
   ]
  },
  {
   "cell_type": "code",
   "execution_count": 13,
   "metadata": {},
   "outputs": [
    {
     "name": "stdout",
     "output_type": "stream",
     "text": [
      "(0, 0, 0, 0, 0, 0, 0, 0, 0, 0, 0, 0, 0, 0, 0, 0, 0, 0, 0, 0, 0, 0, 0, 0, 0, 0, 0, 0, 0, 0, 0, 0, 0, 0, 0, 0, 0, 0, 0, 0, 0, 0, 0, 0, 0, 0, 0, 0, 0, 0, 0, 0, 0, 0, 0, 0, 0, 0, 0, 0, 0, 0, 0, 0, 0, 0, 0, 0, 0, 0, 0, 0, 0, 0, 0, 0, 0, 0, 0, 0, 0, 0, 0, 0, 0, 0, 0, 0, 0, 0, 0, 0, 0, 0, 0, 0, 0, 0, 0, 0)\n"
     ]
    }
   ],
   "source": [
    "f=D(HsubIstrike(100,3))\n",
    "fl= vector(f.list())\n",
    "dvs=[1];\n",
    "for n in [1..99]:\n",
    "    dvs=dvs+[-504*sigma(n,5)]\n",
    "dvs=vector(dvs)\n",
    "print dvs-fl"
   ]
  },
  {
   "cell_type": "code",
   "execution_count": null,
   "metadata": {},
   "outputs": [],
   "source": []
  }
 ],
 "metadata": {
  "kernelspec": {
   "display_name": "SageMath 9.1",
   "language": "sage",
   "name": "sagemath"
  },
  "language_info": {
   "codemirror_mode": {
    "name": "ipython",
    "version": 2
   },
   "file_extension": ".py",
   "mimetype": "text/x-python",
   "name": "python",
   "nbconvert_exporter": "python",
   "pygments_lexer": "ipython2",
   "version": "2.7.15"
  }
 },
 "nbformat": 4,
 "nbformat_minor": 2
}
