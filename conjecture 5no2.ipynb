{
 "cells": [
  {
   "cell_type": "code",
   "execution_count": 29,
   "metadata": {},
   "outputs": [],
   "source": [
    "# Uses code from 'make j from scratch'\n",
    "D.<x> = PolynomialRing(QQ)\n",
    "R.<x> = PolynomialRing(QQ)\n",
    "S = PowerSeriesRing(QQ,'x', default_prec=300)\n",
    "L=LaurentSeriesRing(QQ,'x', default_prec=300)\n",
    "#S.<x,y>=PowerSeriesRing(QQ,default_prec=300)\n",
    "# Using \"R = PolynomialRing(QQ,'x')\" produces an error.\n",
    "# Yet using S as defined here is fine (see definition of Fraleigh4 below)\n",
    "# But S = PowerSeriesRing(QQ,'x','y') also produces an error.\n",
    "def pochhammer(x,n):\n",
    "    return product ([x+k for k in [0..n-1]])\n",
    "def cRaleigh2(alpha,beta,nu):\n",
    "    pchhmrA = pochhammer(alpha,nu)\n",
    "    pchhmrB = pochhammer(beta,nu)\n",
    "    fnu=factorial(nu)\n",
    "    answer = D(pchhmrA*pchhmrB/fnu^2)\n",
    "    return answer\n",
    "def term(alpha,beta,p):\n",
    "    return D(1/(alpha + p) + 1/(beta + p) - 2/(1 + p))\n",
    "def eRaleigh(alpha, beta, nu):\n",
    "    return D(sum([term(alpha, beta, p) for p in [0..nu - 1]]))\n",
    "def FstarRaleigh2(alpha,beta,u,terms):\n",
    "    fsr = sum([cRaleigh2(alpha, beta, nu)*eRaleigh(alpha,beta,nu)*u^nu for nu in [1..terms]])\n",
    "    return D(fsr)\n",
    "def Fraleigh2(alpha,beta,u,terms): \n",
    "    return D(sum([cRaleigh2(alpha,beta,nu)*u^nu for nu in [0..terms]]))\n",
    "def FstarRaleigh3(n,m,x):\n",
    "    alpha = (1/2-1/m)/2\n",
    "    beta = (1/2+1/m)/2\n",
    "    fsr2 = FstarRaleigh2(alpha,beta,x,n)\n",
    "    return D(fsr2)\n",
    "def Fraleigh4(n,m,x):\n",
    "    alpha = (1/2-1/m)/2\n",
    "    beta = (1/2+1/m)/2\n",
    "    fr2 = Fraleigh2(alpha,beta,x,n)\n",
    "    return D(fr2)\n",
    "def exNo3c(n,m):\n",
    "    a1 = S(x)*exp(S(FstarRaleigh3(n,m,x)/Fraleigh4(n,m,x))).O(2*n)\n",
    "    # S(x) instead of x in df of a1 to avoid an error message\n",
    "    # after use of the stripQuotationMarks command below.\n",
    "    a2 = S(a1).O(n+1)\n",
    "    return a2 # applying S to argument of exp is key.\n",
    "def J(n,m):\n",
    "    exn = exNo3c(n+2,m)\n",
    "    jnm = 1/exn.reverse()\n",
    "    return jnm.O(n+1) # Jtest is faster than J, and they agree.\n",
    "def normalJ(n,m):\n",
    "    f = J(n,m)\n",
    "    return f.truncate(n+1)\n",
    "def Jcoefficient(n,m):\n",
    "    f = J(n+2,m)\n",
    "    f1 = f.truncate(n+1)\n",
    "    f1=f1.list()\n",
    "    f1=Set(f1)\n",
    "    g1 = f.truncate(n)\n",
    "    g1 = g1.list()\n",
    "    g1 = set(g1)\n",
    "    h = f1.difference(g1)\n",
    "    h = h.list()\n",
    "    return h[0]\n",
    "def xjNew(n,m):\n",
    "    def xjNewStep(n,m):\n",
    "        f=J(n,m)\n",
    "        fl=f.list()\n",
    "        rt=0\n",
    "        for i in [0..len(fl)-1]:\n",
    "            rt=rt+fl[i]*x**i*(m**3*2**6)**i\n",
    "        return rt\n",
    "    return xjNewStep(n-1,m)\n",
    "def j(n,m):return L(xjNew(n,m)/x)\n",
    "def tildeHsubI(n,m):\n",
    "    jay = j(n+1,m)\n",
    "    numerator = x^m*derivative(jay,x)^m\n",
    "    denominator = jay^(m-1)*(jay-2^6*m^3)\n",
    "    power=1/(m-2)\n",
    "    return L((numerator/denominator)^power).truncate(n)\n",
    "def polynomialCoefficient(n,poly):\n",
    "    return poly.list()[n]\n",
    "def leadingCoefficient(polynomial):\n",
    "    dg=polynomial.degree()\n",
    "    return polynomialCoefficient(dg,polynomial)\n",
    "def factorpairToFactor(factorpair):\n",
    "    (monomial,exponent)=factorpair\n",
    "    return monomial^exponent\n",
    "def numericalfactor(polynomial):\n",
    "    fp=polynomial.factor()\n",
    "    lst=[factorpairToFactor(factorpair) for factorpair in fp]\n",
    "    return polynomial/product(lst)\n",
    "def firstfactor(polynomial):\n",
    "    fp=polynomial.factor()\n",
    "    fp=FiniteEnumeratedSet(fp)\n",
    "    return factorpairToFactor(fp.first())\n",
    "def lastfactor(polynomial):\n",
    "    fp=polynomial.factor()\n",
    "    fp=FiniteEnumeratedSet(fp)\n",
    "    return factorpairToFactor(fp.last())\n",
    "def reduced(polynomial):\n",
    "    return numericalfactor(polynomial)*lastfactor(polynomial)\n",
    "def stripQuotationMarks(string):\n",
    "    var('x')\n",
    "    return sage_eval(string,locals={'x':x})\n",
    "def sigmaOdd(n):\n",
    "    sum=0\n",
    "    dvs=divisors(n)\n",
    "    lnth=len(dvs)\n",
    "    for k in [0..lnth-1]:\n",
    "        dv=dvs[k]\n",
    "        if mod(dv,2)==1:\n",
    "            sum=sum+dv\n",
    "    return sum"
   ]
  },
  {
   "cell_type": "code",
   "execution_count": 2,
   "metadata": {},
   "outputs": [
    {
     "data": {
      "text/plain": [
       "x^-1 + 744 + 196884*x + 21493760*x^2 + 864299970*x^3 + 20245856256*x^4 + 333202640600*x^5 + 4252023300096*x^6 + 44656994071935*x^7 + 401490886656000*x^8 + 3176440229784420*x^9"
      ]
     },
     "execution_count": 2,
     "metadata": {},
     "output_type": "execute_result"
    }
   ],
   "source": [
    "j(10,3)"
   ]
  },
  {
   "cell_type": "code",
   "execution_count": 3,
   "metadata": {},
   "outputs": [],
   "source": [
    "def tildeHsubI(n,m):\n",
    "    jay = j(n+1,m)\n",
    "    numerator = x^m*derivative(jay,x)^m\n",
    "    denominator = jay^(m-1)*(jay-2^6*m^3)\n",
    "    power=1/(m-2)\n",
    "    return L((numerator/denominator)^power).truncate(n)"
   ]
  },
  {
   "cell_type": "code",
   "execution_count": 4,
   "metadata": {},
   "outputs": [
    {
     "name": "stdout",
     "output_type": "stream",
     "text": [
      "-1 + 504*x + 16632*x^2 + 122976*x^3 + 532728*x^4\n",
      "\n",
      "1 - 1280*x - 102400*x^2 - 9175040*x^3 - 193986560*x^4\n",
      "\n",
      "-1 + 2600*x + 351000*x^2 + 276380000/3*x^3 + 29091725000/3*x^4\n",
      "\n",
      "1 - 4608*x - 884736*x^2 - 528482304*x^3 - 125627793408*x^4\n",
      "\n"
     ]
    }
   ],
   "source": [
    "n=5\n",
    "for m in [3..6]:\n",
    "    print tildeHsubI(n,m) # will have to normalize these to obtain \"valid\" interpolating polynomials.\n",
    "    print"
   ]
  },
  {
   "cell_type": "code",
   "execution_count": 5,
   "metadata": {},
   "outputs": [
    {
     "name": "stdout",
     "output_type": "stream",
     "text": [
      "1 - 504*x - 16632*x^2 - 122976*x^3 - 532728*x^4\n",
      "\n",
      "1 - 1280*x - 102400*x^2 - 9175040*x^3 - 193986560*x^4\n",
      "\n",
      "1 - 2600*x - 351000*x^2 - 276380000/3*x^3 - 29091725000/3*x^4\n",
      "\n",
      "1 - 4608*x - 884736*x^2 - 528482304*x^3 - 125627793408*x^4\n",
      "\n"
     ]
    }
   ],
   "source": [
    "n=5\n",
    "for m in [3..6]:\n",
    "    print tildeHsubI(n,m)*(-1)^m\n",
    "    print"
   ]
  },
  {
   "cell_type": "code",
   "execution_count": 3,
   "metadata": {},
   "outputs": [
    {
     "data": {
      "text/plain": [
       "308"
      ]
     },
     "execution_count": 3,
     "metadata": {},
     "output_type": "execute_result"
    }
   ],
   "source": [
    "import pickle\n",
    "rfile = open('/Users/barrybrent/28jun21no3.txt','r')\n",
    "rs=pickle.load(rfile)\n",
    "rfile.close()\n",
    "s=stripQuotationMarks(rs)\n",
    "len(s)"
   ]
  },
  {
   "cell_type": "code",
   "execution_count": 6,
   "metadata": {},
   "outputs": [
    {
     "name": "stdout",
     "output_type": "stream",
     "text": [
      "0\n",
      "1\n",
      "2\n",
      "3\n",
      "4\n",
      "5\n",
      "6\n",
      "7\n",
      "8\n",
      "9\n",
      "10\n",
      "11\n",
      "12\n",
      "13\n",
      "14\n",
      "15\n",
      "16\n",
      "17\n",
      "18\n",
      "19\n",
      "20\n",
      "21\n",
      "22\n",
      "23\n",
      "24\n",
      "25\n",
      "26\n",
      "27\n",
      "28\n",
      "29\n",
      "30\n",
      "31\n",
      "32\n",
      "33\n",
      "34\n",
      "35\n",
      "36\n",
      "37\n",
      "38\n",
      "39\n",
      "40\n",
      "41\n",
      "42\n",
      "43\n",
      "44\n",
      "45\n",
      "46\n",
      "47\n",
      "48\n",
      "49\n",
      "50\n",
      "51\n",
      "52\n",
      "53\n",
      "54\n",
      "55\n",
      "56\n",
      "57\n",
      "58\n",
      "59\n",
      "60\n",
      "61\n",
      "62\n",
      "63\n",
      "64\n",
      "65\n",
      "66\n",
      "67\n",
      "68\n",
      "69\n",
      "70\n",
      "71\n",
      "72\n",
      "73\n",
      "74\n",
      "75\n",
      "76\n",
      "77\n",
      "78\n",
      "79\n",
      "80\n",
      "81\n",
      "82\n",
      "83\n",
      "84\n",
      "85\n",
      "86\n",
      "87\n",
      "88\n",
      "89\n",
      "90\n",
      "91\n",
      "92\n",
      "93\n",
      "94\n",
      "95\n",
      "96\n",
      "97\n",
      "98\n",
      "99\n"
     ]
    }
   ],
   "source": [
    "import pickle\n",
    "rfile = open('/Users/barrybrent/28jun21no3.txt','r')\n",
    "rs=pickle.load(rfile)\n",
    "rfile.close()\n",
    "s=stripQuotationMarks(rs)\n",
    "\n",
    "\n",
    "wfile = open('/Users/barrybrent/run30jun21no7.txt','a') # tilde{H}_{i,m} polynomials\n",
    "polydata=[]\n",
    "for n in [0..99]:\n",
    "    print n\n",
    "    data=[]\n",
    "    for k in [0..len(s)-1]:\n",
    "        m = s[k][0]\n",
    "        poly=s[k][1]*(-1)^m # this is the normalization\n",
    "        cf=polynomialCoefficient(n,poly)\n",
    "        data=data+[[m,cf]]\n",
    "    rl=R.lagrange_polynomial(data)\n",
    "    polydata=polydata+[[n,rl]] \n",
    "\n",
    "    \n",
    "t = pickle.dumps(str(polydata))\n",
    "wfile.write(t)\n",
    "wfile.close()"
   ]
  },
  {
   "cell_type": "code",
   "execution_count": 7,
   "metadata": {},
   "outputs": [
    {
     "data": {
      "text/plain": [
       "100"
      ]
     },
     "execution_count": 7,
     "metadata": {},
     "output_type": "execute_result"
    }
   ],
   "source": [
    "import pickle\n",
    "rfile = open('/Users/barrybrent/run30jun21no7.txt','r') # tilde{H}_{i,m} polynomials\n",
    "rs=pickle.load(rfile)\n",
    "rfile.close()\n",
    "s=stripQuotationMarks(rs)\n",
    "len(s)\n",
    "\n"
   ]
  },
  {
   "cell_type": "code",
   "execution_count": 37,
   "metadata": {},
   "outputs": [
    {
     "name": "stdout",
     "output_type": "stream",
     "text": [
      "====================================================================================\n",
      "n:  0\n",
      "\n",
      "1\n",
      "\n",
      "1\n",
      "====================================================================================\n",
      "n:  1\n",
      "\n",
      "-24*x^3 + 16*x^2\n",
      "\n",
      "(-24) * (x - 2/3) * x^2\n",
      "====================================================================================\n",
      "n:  2\n",
      "\n",
      "24*x^6 - 400*x^5 + 928*x^4 - 448*x^3\n",
      "\n",
      "(24) * (x - 14) * (x - 2) * (x - 2/3) * x^3\n",
      "====================================================================================\n",
      "n:  3\n",
      "\n",
      "-96*x^9 + 2368/3*x^8 - 58112/9*x^7 + 230912/9*x^6 - 343552/9*x^5 + 142336/9*x^4\n",
      "\n",
      "(-96) * (x - 2) * (x - 2/3) * x^4 * (x^3 - 50/9*x^2 + 460/9*x - 1112/9)\n",
      "====================================================================================\n",
      "n:  4\n",
      "\n",
      "24*x^12 - 2448*x^11 + 211168/9*x^10 - 3498944/27*x^9 + 543872*x^8 - 37402880/27*x^7 + 14776832/9*x^6 - 16667648/27*x^5\n",
      "\n",
      "(24) * (x - 2) * (x - 2/3) * x^5 * (x^5 - 298/3*x^4 + 19208/27*x^3 - 90992/27*x^2 + 343600/27*x - 520864/27)\n",
      "====================================================================================\n",
      "n:  5\n",
      "\n",
      "-144*x^15 + 14176/5*x^14 - 11656448/225*x^13 + 352563712/675*x^12 - 2036271616/675*x^11 + 8120388608/675*x^10 - 24314884096/675*x^9 + 48048939008/675*x^8 - 49091129344/675*x^7 + 17211891712/675*x^6\n",
      "\n",
      "(-144) * (x - 2) * (x - 2/3) * x^6 * (x^7 - 766/45*x^6 + 633908/2025*x^5 - 5608696/2025*x^4 + 26620592/2025*x^3 - 90708256/2025*x^2 + 45835456/405*x - 268935808/2025)\n",
      "====================================================================================\n",
      "n:  6\n",
      "\n",
      "96*x^18 - 84032/15*x^17 + 38871424/375*x^16 - 4217302784/3375*x^15 + 21920103424/2025*x^14 - 14841485312/225*x^13 + 2867263606784/10125*x^12 - 9092136083456/10125*x^11 + 4374571442176/2025*x^10 - 7265906900992/2025*x^9 + 11098140409856/3375*x^8 - 11059586465792/10125*x^7\n",
      "\n",
      "(96) * (x - 2) * (x - 2/3) * x^7 * (x^9 - 2506/45*x^8 + 3138496/3375*x^7 - 105930944/10125*x^6 + 846635552/10125*x^5 - 4558010176/10125*x^4 + 5527929344/3375*x^3 - 44408969216/10125*x^2 + 87306627328/10125*x - 86403019264/10125)\n"
     ]
    }
   ],
   "source": [
    "import pickle\n",
    "rfile = open('/Users/barrybrent/run30jun21no7.txt','r') # tilde{H}_{i,m} polynomials\n",
    "rs=pickle.load(rfile)\n",
    "rfile.close()\n",
    "s=stripQuotationMarks(rs)\n",
    "for k in [0..6]:\n",
    "    n=s[k][0]\n",
    "    poly=D(s[k][1])\n",
    "    print \"====================================================================================\"\n",
    "    print \"n: \",n\n",
    "    print \n",
    "    print poly\n",
    "    print\n",
    "    print poly.factor()\n",
    "    "
   ]
  },
  {
   "cell_type": "code",
   "execution_count": 16,
   "metadata": {},
   "outputs": [
    {
     "name": "stdout",
     "output_type": "stream",
     "text": [
      "====================================================================================\n",
      "n:  0\n",
      "\n",
      "1\n",
      "1\n",
      "====================================================================================\n",
      "n:  1\n",
      "\n",
      "(-24) * (x - 2/3) * x^2\n",
      "-24\n",
      "====================================================================================\n",
      "n:  2\n",
      "\n",
      "(24) * (x - 14) * (x - 2) * (x - 2/3) * x^3\n",
      "24\n",
      "====================================================================================\n",
      "n:  3\n",
      "\n",
      "(-96) * (x - 2) * (x - 2/3) * x^4 * (x^3 - 50/9*x^2 + 460/9*x - 1112/9)\n",
      "-96\n",
      "====================================================================================\n",
      "n:  4\n",
      "\n",
      "(24) * (x - 2) * (x - 2/3) * x^5 * (x^5 - 298/3*x^4 + 19208/27*x^3 - 90992/27*x^2 + 343600/27*x - 520864/27)\n",
      "24\n",
      "====================================================================================\n",
      "n:  5\n",
      "\n",
      "(-144) * (x - 2) * (x - 2/3) * x^6 * (x^7 - 766/45*x^6 + 633908/2025*x^5 - 5608696/2025*x^4 + 26620592/2025*x^3 - 90708256/2025*x^2 + 45835456/405*x - 268935808/2025)\n",
      "-144\n",
      "====================================================================================\n",
      "n:  6\n",
      "\n",
      "(96) * (x - 2) * (x - 2/3) * x^7 * (x^9 - 2506/45*x^8 + 3138496/3375*x^7 - 105930944/10125*x^6 + 846635552/10125*x^5 - 4558010176/10125*x^4 + 5527929344/3375*x^3 - 44408969216/10125*x^2 + 87306627328/10125*x - 86403019264/10125)\n",
      "96\n"
     ]
    }
   ],
   "source": [
    "import pickle\n",
    "rfile = open('/Users/barrybrent/run30jun21no7.txt','r') # tilde{H}_{i,m} polynomials\n",
    "rs=pickle.load(rfile)\n",
    "rfile.close()\n",
    "s=stripQuotationMarks(rs)\n",
    "for k in [0..6]:\n",
    "    n=s[k][0]\n",
    "    poly=D(s[k][1])\n",
    "    print \"====================================================================================\"\n",
    "    print \"n: \",n\n",
    "    print \n",
    "    print poly.factor()\n",
    "    print numericalfactor(poly)"
   ]
  },
  {
   "cell_type": "code",
   "execution_count": 11,
   "metadata": {},
   "outputs": [
    {
     "name": "stdout",
     "output_type": "stream",
     "text": [
      "[1, -24, 24, -96, 24, -144, 96, -192, 24, -312, 144, -288, 96, -336, 192, -576, 24, -432, 312, -480, 144, -768, 288, -576, 96, -744, 336, -960, 192, -720, 576, -768, 24, -1152, 432, -1152, 312, -912, 480, -1344, 144, -1008, 768, -1056, 288, -1872, 576, -1152, 96, -1368, 744, -1728, 336, -1296, 960, -1728, 192, -1920, 720, -1440, 576, -1488, 768, -2496, 24, -2016, 1152, -1632, 432, -2304, 1152, -1728, 312, -1776, 912, -2976, 480, -2304, 1344, -1920, 144, -2904, 1008, -2016, 768, -2592, 1056, -2880, 288, -2160, 1872, -2688, 576, -3072, 1152, -2880, 96, -2352, 1368, -3744]\n"
     ]
    }
   ],
   "source": [
    "import pickle\n",
    "rfile = open('/Users/barrybrent/run30jun21no7.txt','r') # tilde{H}_{i,m} polynomials\n",
    "rs=pickle.load(rfile)\n",
    "rfile.close()\n",
    "s=stripQuotationMarks(rs)\n",
    "data=[]\n",
    "for k in [0..len(s)-1]:\n",
    "    n=s[k][0]\n",
    "    poly=D(s[k][1])\n",
    "    nf=numericalfactor(poly)\n",
    "    data=data+[nf]\n",
    "print data # data doesn't match the above factorizations;\n",
    "# maybe it matches when the factorization is into monics."
   ]
  },
  {
   "cell_type": "code",
   "execution_count": 12,
   "metadata": {},
   "outputs": [
    {
     "name": "stdout",
     "output_type": "stream",
     "text": [
      "[-1, 1, -4, 1, -6, 4, -8, 1, -13, 6, -12, 4, -14, 8, -24, 1, -18, 13, -20, 6, -32, 12, -24, 4, -31, 14, -40, 8, -30, 24, -32, 1, -48, 18, -48, 13, -38, 20, -56, 6, -42, 32, -44, 12, -78, 24, -48, 4, -57, 31, -72, 14, -54, 40, -72, 8, -80, 30, -60, 24, -62, 32, -104, 1, -84, 48, -68, 18, -96, 48, -72, 13, -74, 38, -124, 20, -96, 56, -80, 6, -121, 42, -84, 32, -108, 44, -120, 12, -90, 78, -112, 24, -128, 48, -120, 4, -98, 57, -156]\n"
     ]
    }
   ],
   "source": [
    "import pickle\n",
    "rfile = open('/Users/barrybrent/run30jun21no7.txt','r') # tilde{H}_{i,m} polynomials\n",
    "rs=pickle.load(rfile)\n",
    "rfile.close()\n",
    "s=stripQuotationMarks(rs)\n",
    "data=[]\n",
    "for k in [1..len(s)-1]:\n",
    "    n=s[k][0]\n",
    "    poly=D(s[k][1])\n",
    "    nf=numericalfactor(poly)\n",
    "    data=data+[nf/24]\n",
    "print data"
   ]
  },
  {
   "cell_type": "code",
   "execution_count": null,
   "metadata": {},
   "outputs": [],
   "source": [
    "# sigmaOdd(n)*(-1)^n  OEIS A000593 auth. NJA Sloane URL = http://oeis.org/A000593"
   ]
  },
  {
   "cell_type": "code",
   "execution_count": 31,
   "metadata": {},
   "outputs": [
    {
     "name": "stdout",
     "output_type": "stream",
     "text": [
      "[0, 0, 0, 0, 0, 0, 0, 0, 0, 0, 0, 0, 0, 0, 0, 0, 0, 0, 0, 0, 0, 0, 0, 0, 0, 0, 0, 0, 0, 0, 0, 0, 0, 0, 0, 0, 0, 0, 0, 0, 0, 0, 0, 0, 0, 0, 0, 0, 0, 0, 0, 0, 0, 0, 0, 0, 0, 0, 0, 0, 0, 0, 0, 0, 0, 0, 0, 0, 0, 0, 0, 0, 0, 0, 0, 0, 0, 0, 0, 0, 0, 0, 0, 0, 0, 0, 0, 0, 0, 0, 0, 0, 0, 0, 0, 0, 0, 0, 0]\n"
     ]
    }
   ],
   "source": [
    "import pickle\n",
    "rfile = open('/Users/barrybrent/run30jun21no7.txt','r') # tilde{H}_{i,m} polynomials\n",
    "rs=pickle.load(rfile)\n",
    "rfile.close()\n",
    "s=stripQuotationMarks(rs)\n",
    "data=[]\n",
    "for k in [1..len(s)-1]:\n",
    "    n=s[k][0]\n",
    "    poly=D(s[k][1])\n",
    "    nf=numericalfactor(poly)\n",
    "    data=data+[nf/24-sigmaOdd(n)*(-1)^n]\n",
    "print data"
   ]
  },
  {
   "cell_type": "code",
   "execution_count": 34,
   "metadata": {},
   "outputs": [
    {
     "data": {
      "text/plain": [
       "2"
      ]
     },
     "execution_count": 34,
     "metadata": {},
     "output_type": "execute_result"
    }
   ],
   "source": [
    "f=x^2;f.degree(x)"
   ]
  },
  {
   "cell_type": "code",
   "execution_count": 36,
   "metadata": {},
   "outputs": [
    {
     "name": "stdout",
     "output_type": "stream",
     "text": [
      "[0, 0, 0, 0, 0, 0, 0, 0, 0, 0, 0, 0, 0, 0, 0, 0, 0, 0, 0, 0, 0, 0, 0, 0, 0, 0, 0, 0, 0, 0, 0, 0, 0, 0, 0, 0, 0, 0, 0, 0, 0, 0, 0, 0, 0, 0, 0, 0, 0, 0, 0, 0, 0, 0, 0, 0, 0, 0, 0, 0, 0, 0, 0, 0, 0, 0, 0, 0, 0, 0, 0, 0, 0, 0, 0, 0, 0, 0, 0, 0, 0, 0, 0, 0, 0, 0, 0, 0, 0, 0, 0, 0, 0, 0, 0, 0, 0, 0, 0]\n"
     ]
    }
   ],
   "source": [
    "import pickle\n",
    "rfile = open('/Users/barrybrent/run30jun21no7.txt','r') # tilde{H}_{i,m} polynomials\n",
    "rs=pickle.load(rfile)\n",
    "rfile.close()\n",
    "s=stripQuotationMarks(rs)\n",
    "data=[]\n",
    "for k in [1..len(s)-1]:\n",
    "    n=s[k][0]\n",
    "    poly=D(s[k][1])\n",
    "    dg=poly.degree() # under D coercion, degree.() takes no argument.\n",
    "    data=data+[3*n-dg]\n",
    "print data"
   ]
  },
  {
   "cell_type": "code",
   "execution_count": null,
   "metadata": {},
   "outputs": [],
   "source": []
  }
 ],
 "metadata": {
  "kernelspec": {
   "display_name": "SageMath 9.1",
   "language": "sage",
   "name": "sagemath"
  },
  "language_info": {
   "codemirror_mode": {
    "name": "ipython",
    "version": 2
   },
   "file_extension": ".py",
   "mimetype": "text/x-python",
   "name": "python",
   "nbconvert_exporter": "python",
   "pygments_lexer": "ipython2",
   "version": "2.7.15"
  }
 },
 "nbformat": 4,
 "nbformat_minor": 2
}
