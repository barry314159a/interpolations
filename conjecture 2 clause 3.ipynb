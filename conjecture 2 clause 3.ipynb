{
 "cells": [
  {
   "cell_type": "code",
   "execution_count": 1,
   "metadata": {},
   "outputs": [],
   "source": [
    "D.<x> = PolynomialRing(QQ)\n",
    "R.<x> = PolynomialRing(QQ)\n",
    "S = PowerSeriesRing(QQ,'x', default_prec=300)\n",
    "L=LaurentSeriesRing(QQ,'x', default_prec=300)\n",
    "#S.<x,y>=PowerSeriesRing(QQ,default_prec=300)\n",
    "# Using \"R = PolynomialRing(QQ,'x')\" produces an error.\n",
    "# Yet using S as defined here is fine (see definition of Fraleigh4 below)\n",
    "# But S = PowerSeriesRing(QQ,'x','y') also produces an error.\n",
    "def doublefactorial(n):\n",
    "    if n==0:return 1\n",
    "    if n>0:\n",
    "        def doublefactorialEven(n):\n",
    "            return 2^(n/2)*ZZ(factorial(n/2))\n",
    "        def doublefactorialOdd(n):\n",
    "            k=(n+1)/2\n",
    "            return (factorial(2*k))/(2^k*factorial(k))\n",
    "        if 2 in divisors(n):return doublefactorialEven(n)\n",
    "        if 2 in divisors(n+1):return doublefactorialOdd(n)\n",
    "def pochhammer(x,n):\n",
    "    return product ([x+k for k in [0..n-1]])\n",
    "def cRaleigh2(alpha,beta,nu):\n",
    "    pchhmrA = pochhammer(alpha,nu)\n",
    "    pchhmrB = pochhammer(beta,nu)\n",
    "    fnu=factorial(nu)\n",
    "    answer = D(pchhmrA*pchhmrB/fnu^2)\n",
    "    return answer\n",
    "def term(alpha,beta,p):\n",
    "    return D(1/(alpha + p) + 1/(beta + p) - 2/(1 + p))\n",
    "def eRaleigh(alpha, beta, nu):\n",
    "    return D(sum([term(alpha, beta, p) for p in [0..nu - 1]]))\n",
    "def FstarRaleigh2(alpha,beta,u,terms):\n",
    "    fsr = sum([cRaleigh2(alpha, beta, nu)*eRaleigh(alpha,beta,nu)*u^nu for nu in [1..terms]])\n",
    "    return D(fsr)\n",
    "def Fraleigh2(alpha,beta,u,terms): \n",
    "    return D(sum([cRaleigh2(alpha,beta,nu)*u^nu for nu in [0..terms]]))\n",
    "def FstarRaleigh3(n,m,x):\n",
    "    alpha = (1/2-1/m)/2\n",
    "    beta = (1/2+1/m)/2\n",
    "    fsr2 = FstarRaleigh2(alpha,beta,x,n)\n",
    "    return D(fsr2)\n",
    "def Fraleigh4(n,m,x):\n",
    "    alpha = (1/2-1/m)/2\n",
    "    beta = (1/2+1/m)/2\n",
    "    fr2 = Fraleigh2(alpha,beta,x,n)\n",
    "    return D(fr2)\n",
    "def exNo3c(n,m):\n",
    "    a1 = S(x)*exp(S(FstarRaleigh3(n,m,x)/Fraleigh4(n,m,x))).O(2*n)\n",
    "    # S(x) instead of x in df of a1 to avoid an error message\n",
    "    # after use of the stripQuotationMarks command below.\n",
    "    a2 = S(a1).O(n+1)\n",
    "    return a2 # applying S to argument of exp is key.\n",
    "def J(n,m):\n",
    "    exn = exNo3c(n+2,m)\n",
    "    jnm = 1/exn.reverse()\n",
    "    return jnm.O(n+1) # Jtest is faster than J, and they agree.\n",
    "def normalJ(n,m):\n",
    "    f = J(n,m)\n",
    "    return f.truncate(n+1)\n",
    "def Jcoefficient(n,m):\n",
    "    f = J(n+2,m)\n",
    "    f1 = f.truncate(n+1)\n",
    "    f1=f1.list()\n",
    "    f1=Set(f1)\n",
    "    g1 = f.truncate(n)\n",
    "    g1 = g1.list()\n",
    "    g1 = set(g1)\n",
    "    h = f1.difference(g1)\n",
    "    h = h.list()\n",
    "    return h[0]\n",
    "def xjNew(n,m):\n",
    "    def xjNewStep(n,m):\n",
    "        f=J(n,m)\n",
    "        fl=f.list()\n",
    "        rt=0\n",
    "        for i in [0..len(fl)-1]:\n",
    "            rt=rt+fl[i]*x**i*(m**3*2**6)**i\n",
    "        return rt\n",
    "    return xjNewStep(n-1,m)\n",
    "def j(n,m):return L(xjNew(n,m)/x)\n",
    "def polynomialCoefficient(n,poly):\n",
    "    return poly.list()[n]\n",
    "def leadingCoefficient(polynomial):\n",
    "    dg=polynomial.degree()\n",
    "    return polynomialCoefficient(dg,polynomial)\n",
    "def factorpairToFactor(factorpair):\n",
    "    (monomial,exponent)=factorpair\n",
    "    return monomial^exponent\n",
    "def numericalfactor(polynomial):\n",
    "    fp=polynomial.factor()\n",
    "    lst=[factorpairToFactor(factorpair) for factorpair in fp]\n",
    "    return polynomial/product(lst)\n",
    "def firstfactor(polynomial):\n",
    "    fp=polynomial.factor()\n",
    "    fp=FiniteEnumeratedSet(fp)\n",
    "    return factorpairToFactor(fp.first())\n",
    "def lastfactor(polynomial):\n",
    "    fp=polynomial.factor()\n",
    "    fp=FiniteEnumeratedSet(fp)\n",
    "    return factorpairToFactor(fp.last())\n",
    "def reduced(polynomial):\n",
    "    return numericalfactor(polynomial)*lastfactor(polynomial)\n",
    "def stripQuotationMarks(string):\n",
    "    var('x')\n",
    "    return sage_eval(string,locals={'x':x})\n",
    "def lcmlist(list):\n",
    "    answer=list[0]\n",
    "    for k in [1..len(list)-1]:\n",
    "        answer=lcm(answer,list[k])\n",
    "    return answer\n",
    "def denominators(list):\n",
    "    dens=[]\n",
    "    lnth=len(list)\n",
    "    for k in [0..lnth-1]:\n",
    "        dens=dens+[denominator(list[k])]\n",
    "    return dens\n",
    "def normalpolynomial(poly):\n",
    "    return poly*lcmlist(denominators(poly.coefficients()))"
   ]
  },
  {
   "cell_type": "code",
   "execution_count": 4,
   "metadata": {},
   "outputs": [
    {
     "name": "stdout",
     "output_type": "stream",
     "text": [
      "x^-1 + 744 + 196884*x + 21493760*x^2 + 864299970*x^3 + 20245856256*x^4\n",
      "\n",
      "x^-1 + 31/72 + 1823/27648*x + 10495/2519424*x^2 + 1778395/18345885696*x^3 + 45767/34828517376*x^4 + 41650330075/3327916660110655488*x^5 + O(x^6)\n"
     ]
    }
   ],
   "source": [
    "print(j(5,3));print(\"\");print(J(5,3))"
   ]
  },
  {
   "cell_type": "code",
   "execution_count": 14,
   "metadata": {},
   "outputs": [
    {
     "name": "stdout",
     "output_type": "stream",
     "text": [
      "20245856256*x^5 + 864299970*x^4 + 21493760*x^3 + 196884*x^2 + 744*x + 1\n",
      "5\n",
      "[1, 744, 196884, 21493760, 864299970, 20245856256]\n"
     ]
    }
   ],
   "source": [
    "poly=xjNew(5,3);\n",
    "print(poly)\n",
    "print(poly.degree())\n",
    "print list(poly)"
   ]
  },
  {
   "cell_type": "code",
   "execution_count": 3,
   "metadata": {},
   "outputs": [
    {
     "name": "stdout",
     "output_type": "stream",
     "text": [
      "x^-1 + 744 + 196884*x + 21493760*x^2 + 864299970*x^3 + 20245856256*x^4\n"
     ]
    }
   ],
   "source": [
    "print j(5,3)"
   ]
  },
  {
   "cell_type": "code",
   "execution_count": 2,
   "metadata": {},
   "outputs": [
    {
     "name": "stdout",
     "output_type": "stream",
     "text": [
      "10\n",
      "20\n",
      "30\n",
      "40\n",
      "50\n",
      "60\n",
      "70\n",
      "80\n",
      "90\n",
      "100\n",
      "110\n",
      "120\n",
      "130\n",
      "140\n",
      "150\n",
      "160\n",
      "170\n",
      "180\n",
      "190\n",
      "200\n",
      "210\n",
      "220\n",
      "230\n",
      "240\n",
      "250\n",
      "260\n",
      "270\n",
      "280\n",
      "290\n",
      "300\n",
      "310\n",
      "320\n",
      "330\n",
      "340\n",
      "350\n",
      "360\n",
      "370\n",
      "380\n",
      "390\n",
      "400\n",
      "410\n",
      "420\n",
      "430\n",
      "440\n",
      "450\n",
      "460\n",
      "470\n",
      "480\n",
      "490\n",
      "500\n"
     ]
    }
   ],
   "source": [
    "data=[]\n",
    "for m in [3..500]:\n",
    "    if 10 in divisors(m):\n",
    "        print(m)\n",
    "    data=data+[[m,j(120,m)]]\n",
    "import pickle\n",
    "wfile = open('/Users/barrybrent/8mar21no6.txt','a')\n",
    "s = pickle.dumps(str(data))\n",
    "wfile.write(s)\n",
    "wfile.close()"
   ]
  },
  {
   "cell_type": "code",
   "execution_count": 4,
   "metadata": {},
   "outputs": [
    {
     "name": "stdout",
     "output_type": "stream",
     "text": [
      "[0, 3.476809024810791]\n",
      "[1, 3.5383589267730713]\n",
      "[2, 3.4991610050201416]\n",
      "[3, 3.594343900680542]\n",
      "[4, 3.532088041305542]\n",
      "[5, 3.5358738899230957]\n",
      "[6, 3.5763092041015625]\n",
      "[7, 3.5106911659240723]\n",
      "[8, 3.568726062774658]\n",
      "[9, 3.5482139587402344]\n",
      "[10, 3.553571939468384]\n",
      "[11, 3.594465970993042]\n",
      "[12, 3.520862102508545]\n",
      "[13, 3.532066822052002]\n",
      "[14, 3.661604166030884]\n",
      "[15, 3.5511369705200195]\n",
      "[16, 3.592189073562622]\n",
      "[17, 3.567767858505249]\n",
      "[18, 3.59506893157959]\n",
      "[19, 3.631237030029297]\n",
      "[20, 3.5660011768341064]\n",
      "[21, 3.608276844024658]\n",
      "[22, 3.559959888458252]\n",
      "[23, 3.584864854812622]\n",
      "[24, 3.6208600997924805]\n",
      "[25, 3.5829501152038574]\n",
      "[26, 3.615128993988037]\n",
      "[27, 3.6606009006500244]\n",
      "[28, 3.621027946472168]\n",
      "[29, 3.6795859336853027]\n",
      "[30, 3.7123470306396484]\n",
      "[31, 3.688579797744751]\n",
      "[32, 3.6764211654663086]\n",
      "[33, 3.658989191055298]\n",
      "[34, 3.6817078590393066]\n",
      "[35, 3.6548259258270264]\n",
      "[36, 3.682342767715454]\n",
      "[37, 3.721776008605957]\n",
      "[38, 3.702333927154541]\n",
      "[39, 3.7165682315826416]\n",
      "[40, 3.744623899459839]\n",
      "[41, 3.689958095550537]\n",
      "[42, 3.761300802230835]\n",
      "[43, 3.7501628398895264]\n",
      "[44, 3.745060920715332]\n",
      "[45, 3.7996408939361572]\n",
      "[46, 3.732470989227295]\n",
      "[47, 3.8298912048339844]\n",
      "[48, 3.8042688369750977]\n",
      "[49, 3.798535108566284]\n",
      "[50, 3.8478829860687256]\n",
      "[51, 3.8215959072113037]\n",
      "[52, 3.810482978820801]\n",
      "[53, 3.881175994873047]\n",
      "[54, 3.854534864425659]\n",
      "[55, 3.90516996383667]\n",
      "[56, 3.836127996444702]\n",
      "[57, 3.8670780658721924]\n",
      "[58, 3.940883159637451]\n",
      "[59, 3.9243838787078857]\n",
      "[60, 3.9853620529174805]\n",
      "[61, 3.937514066696167]\n",
      "[62, 3.97149395942688]\n",
      "[63, 4.027248859405518]\n",
      "[64, 3.9414169788360596]\n",
      "[65, 4.00380802154541]\n",
      "[66, 4.04929518699646]\n",
      "[67, 3.986575126647949]\n",
      "[68, 4.088533878326416]\n",
      "[69, 4.10630202293396]\n",
      "[70, 4.047240972518921]\n",
      "[71, 4.0933380126953125]\n",
      "[72, 4.107681035995483]\n",
      "[73, 4.112837076187134]\n",
      "[74, 4.184443950653076]\n",
      "[75, 4.149338006973267]\n",
      "[76, 4.1757049560546875]\n",
      "[77, 4.181594133377075]\n",
      "[78, 4.163354873657227]\n",
      "[79, 4.244822978973389]\n",
      "[80, 4.234788179397583]\n",
      "[81, 4.248356103897095]\n",
      "[82, 4.270040988922119]\n",
      "[83, 4.287176847457886]\n",
      "[84, 4.30876898765564]\n",
      "[85, 4.374506950378418]\n",
      "[86, 4.27639102935791]\n",
      "[87, 4.412272930145264]\n",
      "[88, 4.344382047653198]\n",
      "[89, 4.4235570430755615]\n",
      "[90, 4.487759113311768]\n",
      "[91, 4.378230094909668]\n",
      "[92, 4.403706789016724]\n",
      "[93, 4.519424915313721]\n",
      "[94, 4.46592903137207]\n",
      "[95, 4.512562036514282]\n",
      "[96, 4.5277979373931885]\n",
      "[97, 4.544487953186035]\n",
      "[98, 4.576056957244873]\n",
      "[99, 4.61037015914917]\n",
      "[100, 4.548246145248413]\n",
      "[101, 4.645603895187378]\n",
      "[102, 4.667955160140991]\n",
      "[103, 4.850399971008301]\n",
      "[104, 4.893525838851929]\n",
      "[105, 4.7363481521606445]\n",
      "[106, 4.6482579708099365]\n",
      "[107, 4.858043909072876]\n",
      "[108, 4.797259092330933]\n",
      "[109, 4.776389837265015]\n",
      "[110, 4.830789089202881]\n",
      "[111, 4.761435031890869]\n",
      "[112, 4.808218002319336]\n",
      "[113, 4.947264909744263]\n",
      "[114, 4.935044050216675]\n",
      "[115, 4.928040981292725]\n",
      "[116, 4.884397983551025]\n",
      "[117, 5.044282913208008]\n",
      "[118, 4.923951864242554]\n",
      "[119, 5.0588178634643555]\n",
      "[120, 4.97167706489563]\n"
     ]
    }
   ],
   "source": [
    "import pickle\n",
    "rfile = open('/Users/barrybrent/8mar21no6.txt','r')\n",
    "rs=pickle.load(rfile)\n",
    "rfile.close()\n",
    "s=stripQuotationMarks(rs)\n",
    "polydata=[]\n",
    "import time\n",
    "wfile = open('/Users/barrybrent/10mar21no8.txt','w')\n",
    "enoughfile=[]\n",
    "for qpower in [0..120]:\n",
    "    start = time.time()\n",
    "    data=[]\n",
    "    for k in [0..len(s)-1]:\n",
    "        m = s[k][0]\n",
    "        poly=x*s[k][1] \n",
    "# times x because, to use polynomialCoefficient, I need a polynomial; not a Laurent series\n",
    "        cf=polynomialCoefficient(qpower,poly)\n",
    "        data=data+[[m,cf]]\n",
    "    rl=R.lagrange_polynomial(data)\n",
    "    polydata=polydata+[[qpower-1,rl]] \n",
    "    finish = time.time()\n",
    "    print([qpower,finish-start])\n",
    "# -1 because I want to record the coefficients of the qpowers of the original Laurent series\n",
    "t = pickle.dumps(str(polydata))\n",
    "wfile.write(t)\n",
    "wfile.close()"
   ]
  },
  {
   "cell_type": "code",
   "execution_count": 104,
   "metadata": {},
   "outputs": [
    {
     "name": "stdout",
     "output_type": "stream",
     "text": [
      "0\n",
      "x^2 + 4/3\n",
      "3*x^2 + 4\n",
      "---------------------------------------------------------------------------------\n",
      "1\n",
      "x^4 - 8/69*x^2 - 16/23\n",
      "69*x^4 - 8*x^2 - 48\n",
      "---------------------------------------------------------------------------------\n",
      "2\n",
      "x^4 - 8/27*x^2 - 16/27\n",
      "27*x^4 - 8*x^2 - 16\n",
      "---------------------------------------------------------------------------------\n",
      "3\n",
      "x^6 - 38732/5601*x^4 + 11312/5601*x^2 + 6464/1867\n",
      "5601*x^6 - 38732*x^4 + 11312*x^2 + 19392\n",
      "---------------------------------------------------------------------------------\n",
      "4\n",
      "x^8 - 51968/3375*x^6 + 650144/10125*x^4 - 190976/10125*x^2 - 95488/3375\n",
      "10125*x^8 - 155904*x^6 + 650144*x^4 - 190976*x^2 - 286464\n",
      "---------------------------------------------------------------------------------\n"
     ]
    }
   ],
   "source": [
    "import pickle\n",
    "rfile = open('/Users/barrybrent/10mar21no8.txt','r')\n",
    "rs=pickle.load(rfile)\n",
    "rfile.close()\n",
    "s=stripQuotationMarks(rs)\n",
    "for n in [1..5]:\n",
    "    print(s[n][0])\n",
    "    f=D(s[n][1])\n",
    "    lf=lastfactor(f)\n",
    "    np=normalpolynomial(lf)\n",
    "    print(lf);print(np)\n",
    "    print(\"---------------------------------------------------------------------------------\")"
   ]
  },
  {
   "cell_type": "code",
   "execution_count": 116,
   "metadata": {},
   "outputs": [
    {
     "name": "stdout",
     "output_type": "stream",
     "text": [
      "[1, 2, 3, 8, 15, 48, 105, 384, 945, 3840, 10395, 46080, 135135, 645120, 2027025, 10321920, 34459425, 185794560, 654729075, 3715891200]\n"
     ]
    }
   ],
   "source": [
    "data=[]\n",
    "for n in [1..20]:\n",
    "    data=data+[doublefactorial(n)]\n",
    "print(data)"
   ]
  },
  {
   "cell_type": "code",
   "execution_count": 2,
   "metadata": {},
   "outputs": [
    {
     "name": "stdout",
     "output_type": "stream",
     "text": [
      "[0, 1, 1]\n",
      "3*x^2 + 4\n"
     ]
    }
   ],
   "source": [
    "import pickle\n",
    "rfile = open('/Users/barrybrent/10mar21no8.txt','r')\n",
    "rs=pickle.load(rfile)\n",
    "rfile.close()\n",
    "s=stripQuotationMarks(rs)\n",
    "k=1\n",
    "n=s[k][0]\n",
    "print([s[k][0],2^n*ZZ(factorial(n)),doublefactorial(2*n)])\n",
    "f=D(s[k][1])\n",
    "lf=lastfactor(f)\n",
    "np=normalpolynomial(lf)\n",
    "print(np)"
   ]
  },
  {
   "cell_type": "code",
   "execution_count": null,
   "metadata": {},
   "outputs": [],
   "source": [
    "Magma V2.25-8     Thu Mar 18 2021 09:19:52 on Barrys-iMac [Seed = 522985201]\n",
    "Type ? for help.  Type <Ctrl>-D to quit.\n",
    "> P< x >:=PolynomialAlgebra(Rationals());\n",
    "> f:=-3*x^2 + 4;\n",
    "> G:=GaloisGroup(f);\n",
    "> print G;\n",
    "Symmetric group G acting on a set of cardinality 2\n",
    "Order = 2\n"
   ]
  },
  {
   "cell_type": "code",
   "execution_count": 3,
   "metadata": {},
   "outputs": [
    {
     "name": "stdout",
     "output_type": "stream",
     "text": [
      "[1, 2, 2]\n",
      "69*x^4 - 8*x^2 - 48\n"
     ]
    }
   ],
   "source": [
    "import pickle\n",
    "rfile = open('/Users/barrybrent/10mar21no8.txt','r')\n",
    "rs=pickle.load(rfile)\n",
    "rfile.close()\n",
    "s=stripQuotationMarks(rs)\n",
    "k=2\n",
    "n=s[k][0]\n",
    "print([s[k][0],2^n*ZZ(factorial(n)),doublefactorial(2*n)])\n",
    "f=D(s[k][1])\n",
    "lf=lastfactor(f)\n",
    "np=normalpolynomial(lf)\n",
    "print(np)"
   ]
  },
  {
   "cell_type": "code",
   "execution_count": null,
   "metadata": {},
   "outputs": [],
   "source": [
    "> P< x >:=PolynomialAlgebra(Rationals());\n",
    "> f:=69*x^4 - 8*x^2 - 48;\n",
    "> G:=GaloisGroup(f);\n",
    "> print G;\n",
    "Permutation group G acting on a set of cardinality 4\n",
    "Order = 8 = 2^3\n",
    "    (1, 2)(3, 4)\n",
    "    (2, 3)"
   ]
  },
  {
   "cell_type": "code",
   "execution_count": 4,
   "metadata": {},
   "outputs": [
    {
     "name": "stdout",
     "output_type": "stream",
     "text": [
      "[2, 8, 8]\n",
      "27*x^4 - 8*x^2 - 16\n"
     ]
    }
   ],
   "source": [
    "import pickle\n",
    "rfile = open('/Users/barrybrent/10mar21no8.txt','r')\n",
    "rs=pickle.load(rfile)\n",
    "rfile.close()\n",
    "s=stripQuotationMarks(rs)\n",
    "k=3\n",
    "n=s[k][0]\n",
    "print([s[k][0],2^n*ZZ(factorial(n)),doublefactorial(2*n)])\n",
    "f=D(s[k][1])\n",
    "lf=lastfactor(f)\n",
    "np=normalpolynomial(lf)\n",
    "print(np)"
   ]
  },
  {
   "cell_type": "code",
   "execution_count": null,
   "metadata": {},
   "outputs": [],
   "source": [
    "> P< x >:=PolynomialAlgebra(Rationals());\n",
    "> f:=27*x^4 - 8*x^2 - 16\n",
    "> G:=GaloisGroup(f);\n",
    "> print G;\n",
    "Permutation group G acting on a set of cardinality 4\n",
    "Order = 8 = 2^3\n",
    "    (1, 2)(3, 4)\n",
    "    (2, 3)"
   ]
  },
  {
   "cell_type": "code",
   "execution_count": 5,
   "metadata": {},
   "outputs": [
    {
     "name": "stdout",
     "output_type": "stream",
     "text": [
      "[3, 48, 48]\n",
      "5601*x^6 - 38732*x^4 + 11312*x^2 + 19392\n"
     ]
    }
   ],
   "source": [
    "import pickle\n",
    "rfile = open('/Users/barrybrent/10mar21no8.txt','r')\n",
    "rs=pickle.load(rfile)\n",
    "rfile.close()\n",
    "s=stripQuotationMarks(rs)\n",
    "k=4\n",
    "n=s[k][0]\n",
    "print([s[k][0],2^n*ZZ(factorial(n)),doublefactorial(2*n)])\n",
    "f=D(s[k][1])\n",
    "lf=lastfactor(f)\n",
    "np=normalpolynomial(lf)\n",
    "print(np)"
   ]
  },
  {
   "cell_type": "code",
   "execution_count": null,
   "metadata": {},
   "outputs": [],
   "source": [
    "Magma V2.25-8     Thu Mar 18 2021 11:56:56 on Barrys-iMac [Seed = 3805349073]\n",
    "Type ? for help.  Type <Ctrl>-D to quit.\n",
    "> P< x >:=PolynomialAlgebra(Rationals());\n",
    "> f:=5601*x^6 - 38732*x^4 + 11312*x^2 + 19392;\n",
    "> G:=GaloisGroup(f);\n",
    "> print G;\n",
    "Permutation group G acting on a set of cardinality 6\n",
    "Order = 48 = 2^4 * 3\n",
    "    (1, 2, 3)(4, 5, 6)\n",
    "    (1, 2)(4, 5)\n",
    "    (1, 4)\n"
   ]
  },
  {
   "cell_type": "code",
   "execution_count": 6,
   "metadata": {},
   "outputs": [
    {
     "name": "stdout",
     "output_type": "stream",
     "text": [
      "[4, 384, 384]\n",
      "10125*x^8 - 155904*x^6 + 650144*x^4 - 190976*x^2 - 286464\n"
     ]
    }
   ],
   "source": [
    "import pickle\n",
    "rfile = open('/Users/barrybrent/10mar21no8.txt','r')\n",
    "rs=pickle.load(rfile)\n",
    "rfile.close()\n",
    "s=stripQuotationMarks(rs)\n",
    "k=5\n",
    "n=s[k][0]\n",
    "print([s[k][0],2^n*ZZ(factorial(n)),doublefactorial(2*n)])\n",
    "f=D(s[k][1])\n",
    "lf=lastfactor(f)\n",
    "np=normalpolynomial(lf)\n",
    "print(np)"
   ]
  },
  {
   "cell_type": "code",
   "execution_count": null,
   "metadata": {},
   "outputs": [],
   "source": [
    "> P< x >:=PolynomialAlgebra(Rationals());\n",
    "> f:=10125*x^8 - 155904*x^6 + 650144*x^4 - 190976*x^2 - 286464;\n",
    "> G:=GaloisGroup(f);\n",
    "> print G;\n",
    "Permutation group G acting on a set of cardinality 8\n",
    "Order = 384 = 2^7 * 3\n",
    "    (1, 4, 2, 3)(5, 8, 6, 7)\n",
    "    (2, 3)(6, 7)\n",
    "    (2, 6)\n"
   ]
  },
  {
   "cell_type": "code",
   "execution_count": 7,
   "metadata": {},
   "outputs": [
    {
     "name": "stdout",
     "output_type": "stream",
     "text": [
      "[5, 3840, 3840]\n",
      "16769187*x^10 - 419821596*x^8 + 3737957344*x^6 - 12223806336*x^4 + 3651604224*x^2 + 4868805632\n"
     ]
    }
   ],
   "source": [
    "import pickle\n",
    "rfile = open('/Users/barrybrent/10mar21no8.txt','r')\n",
    "rs=pickle.load(rfile)\n",
    "rfile.close()\n",
    "s=stripQuotationMarks(rs)\n",
    "k=6\n",
    "n=s[k][0]\n",
    "print([s[k][0],2^n*ZZ(factorial(n)),doublefactorial(2*n)])\n",
    "f=D(s[k][1])\n",
    "lf=lastfactor(f)\n",
    "np=normalpolynomial(lf)\n",
    "print(np)"
   ]
  },
  {
   "cell_type": "code",
   "execution_count": null,
   "metadata": {},
   "outputs": [],
   "source": [
    "> P< x >:=PolynomialAlgebra(Rationals());                                                                                                                                                               \n",
    "> f:=16769187*x^10-419821596*x^8+3737957344*x^6-12223806336*x^4+3651604224*x^2+4868805632;\n",
    "> G:=GaloisGroup(f);\n",
    "> print G;\n",
    "Permutation group G acting on a set of cardinality 10\n",
    "Order = 3840 = 2^8 * 3 * 5\n",
    "    (1, 2, 7, 8, 3)(4, 5, 9, 10, 6)\n",
    "    (1, 3)(4, 6)\n",
    "    (3, 6)\n",
    "> \n"
   ]
  },
  {
   "cell_type": "code",
   "execution_count": 8,
   "metadata": {},
   "outputs": [
    {
     "name": "stdout",
     "output_type": "stream",
     "text": [
      "[6, 46080, 46080]\n",
      "28940625*x^12 - 1021579752*x^10 + 14381852336*x^8 - 97244606208*x^6 + 275976533760*x^4 - 84389242880*x^2 - 101267091456\n"
     ]
    }
   ],
   "source": [
    "import pickle\n",
    "rfile = open('/Users/barrybrent/10mar21no8.txt','r')\n",
    "rs=pickle.load(rfile)\n",
    "rfile.close()\n",
    "s=stripQuotationMarks(rs)\n",
    "k=7\n",
    "n=s[k][0]\n",
    "print([s[k][0],2^n*ZZ(factorial(n)),doublefactorial(2*n)])\n",
    "f=D(s[k][1])\n",
    "lf=lastfactor(f)\n",
    "np=normalpolynomial(lf)\n",
    "print(np)"
   ]
  },
  {
   "cell_type": "code",
   "execution_count": null,
   "metadata": {},
   "outputs": [],
   "source": [
    "> f:=28940625*x^12-1021579752*x^10+14381852336*x^8-97244606208*x^6+275976533760*x^4-84389242880*x^2-101267091456;\n",
    "> G:=GaloisGroup(f);\n",
    "> print G;\n",
    "Permutation group G acting on a set of cardinality 12\n",
    "Order = 46080 = 2^10 * 3^2 * 5\n",
    "    (1, 2, 5, 7, 8, 6)(3, 4, 9, 11, 12, 10)\n",
    "    (7, 8)(11, 12)\n",
    "    (7, 11)\n"
   ]
  },
  {
   "cell_type": "code",
   "execution_count": 9,
   "metadata": {},
   "outputs": [
    {
     "name": "stdout",
     "output_type": "stream",
     "text": [
      "[7, 645120, 645120]\n",
      "171449044875*x^14 - 7888431575988*x^12 + 153388981660272*x^10 - 1601285210822720*x^8 + 9150173038346496*x^6 - 23764850390670336*x^4 + 7468858536415232*x^2 + 8147845676089344\n"
     ]
    }
   ],
   "source": [
    "import pickle\n",
    "rfile = open('/Users/barrybrent/10mar21no8.txt','r')\n",
    "rs=pickle.load(rfile)\n",
    "rfile.close()\n",
    "s=stripQuotationMarks(rs)\n",
    "k=8\n",
    "n=s[k][0]\n",
    "print([s[k][0],2^n*ZZ(factorial(n)),doublefactorial(2*n)])\n",
    "f=D(s[k][1])\n",
    "lf=lastfactor(f)\n",
    "np=normalpolynomial(lf)\n",
    "print(np)"
   ]
  },
  {
   "cell_type": "code",
   "execution_count": null,
   "metadata": {},
   "outputs": [],
   "source": [
    "> f:=171449044875*x^14-7888431575988*x^12+153388981660272*x^10-1601285210822720*x^8+9150173038346496*x^6-23764850390670336*x^4+7468858536415232*x^2+8147845676089344;\n",
    "> G:=GaloisGroup(f);\n",
    "> print G;\n",
    "Permutation group G acting on a set of cardinality 14\n",
    "Order = 645120 = 2^11 * 3^2 * 5 * 7\n",
    "    (1, 7, 3, 9, 10, 2, 8)(4, 11, 6, 13, 14, 5, 12)\n",
    "    (1, 7)(4, 11)\n",
    "    (1, 4)\n"
   ]
  },
  {
   "cell_type": "code",
   "execution_count": 10,
   "metadata": {},
   "outputs": [
    {
     "name": "stdout",
     "output_type": "stream",
     "text": [
      "[8, 10321920, 10321920]\n",
      "11533417875*x^16 - 659279330928*x^14 + 16469761126016*x^12 - 233226372227840*x^10 + 2013551386772992*x^8 - 10287291525124096*x^6 + 25262578868092928*x^4 - 8182074782580736*x^2 - 8182074782580736\n"
     ]
    }
   ],
   "source": [
    "import pickle\n",
    "rfile = open('/Users/barrybrent/10mar21no8.txt','r')\n",
    "rs=pickle.load(rfile)\n",
    "rfile.close()\n",
    "s=stripQuotationMarks(rs)\n",
    "k=9\n",
    "n=s[k][0]\n",
    "print([s[k][0],2^n*ZZ(factorial(n)),doublefactorial(2*n)])\n",
    "f=D(s[k][1])\n",
    "lf=lastfactor(f)\n",
    "np=normalpolynomial(lf)\n",
    "print(np)"
   ]
  },
  {
   "cell_type": "code",
   "execution_count": null,
   "metadata": {},
   "outputs": [],
   "source": [
    "> f:=11533417875*x^16-659279330928*x^14+16469761126016*x^12-233226372227840*x^10+2013551386772992*x^8-10287291525124096*x^6+25262578868092928*x^4-8182074782580736*x^2-8182074782580736;\n",
    "> G:=GaloisGroup(f);\n",
    "> print G;\n",
    "Permutation group G acting on a set of cardinality 16\n",
    "Order = 10321920 = 2^15 * 3^2 * 5 * 7\n",
    "    (1, 6, 5, 10, 8, 7, 9, 2)(3, 12, 11, 16, 14, 13, 15, 4)\n",
    "    (5, 10)(11, 16)\n",
    "    (5, 11)\n"
   ]
  },
  {
   "cell_type": "code",
   "execution_count": null,
   "metadata": {},
   "outputs": [],
   "source": []
  }
 ],
 "metadata": {
  "kernelspec": {
   "display_name": "SageMath 9.1",
   "language": "sage",
   "name": "sagemath"
  },
  "language_info": {
   "codemirror_mode": {
    "name": "ipython",
    "version": 2
   },
   "file_extension": ".py",
   "mimetype": "text/x-python",
   "name": "python",
   "nbconvert_exporter": "python",
   "pygments_lexer": "ipython2",
   "version": "2.7.15"
  }
 },
 "nbformat": 4,
 "nbformat_minor": 4
}
