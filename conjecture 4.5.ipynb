{
 "cells": [
  {
   "cell_type": "code",
   "execution_count": 1,
   "metadata": {},
   "outputs": [],
   "source": [
    "D.<x> = PolynomialRing(QQ)\n",
    "R.<x> = PolynomialRing(QQ)\n",
    "S = PowerSeriesRing(QQ,'x', default_prec=300)\n",
    "#S.<x,y>=PowerSeriesRing(QQ,default_prec=300)\n",
    "# Using \"R = PolynomialRing(QQ,'x')\" produces an error.\n",
    "# Yet using S as defined here is fine (see definition of Fraleigh4 below)\n",
    "# But S = PowerSeriesRing(QQ,'x','y') also produces an error.\n",
    "L=LaurentSeriesRing(QQ,'x', default_prec=300)\n",
    "\n",
    "def polynomialdivision(dividend, divisor):\n",
    "    q,r = dividend.maxima_methods().divide(divisor)\n",
    "    return (q,r)\n",
    "def pochhammer(x,n):\n",
    "    return product ([x+k for k in [0..n-1]])\n",
    "def cRaleigh2(alpha,beta,nu):\n",
    "    pchhmrA = pochhammer(alpha,nu)\n",
    "    pchhmrB = pochhammer(beta,nu)\n",
    "    fnu=factorial(nu)\n",
    "    answer = D(pchhmrA*pchhmrB/fnu^2)\n",
    "    return answer\n",
    "def term(alpha,beta,p):\n",
    "    return D(1/(alpha + p) + 1/(beta + p) - 2/(1 + p))\n",
    "def eRaleigh(alpha, beta, nu):\n",
    "    return D(sum([term(alpha, beta, p) for p in [0..nu - 1]]))\n",
    "def FstarRaleigh2(alpha,beta,u,terms):\n",
    "    fsr = sum([cRaleigh2(alpha, beta, nu)*eRaleigh(alpha,beta,nu)*u^nu for nu in [1..terms]])\n",
    "    return D(fsr)\n",
    "def Fraleigh2(alpha,beta,u,terms): \n",
    "    return D(sum([cRaleigh2(alpha,beta,nu)*u^nu for nu in [0..terms]]))\n",
    "def FstarRaleigh3(n,m,x):\n",
    "    alpha = (1/2-1/m)/2\n",
    "    beta = (1/2+1/m)/2\n",
    "    fsr2 = FstarRaleigh2(alpha,beta,x,n)\n",
    "    return D(fsr2)\n",
    "def Fraleigh4(n,m,x):\n",
    "    alpha = (1/2-1/m)/2\n",
    "    beta = (1/2+1/m)/2\n",
    "    fr2 = Fraleigh2(alpha,beta,x,n)\n",
    "    return D(fr2)\n",
    "def exNo3c(n,m):\n",
    "    a1 = S(x)*exp(S(FstarRaleigh3(n,m,x)/Fraleigh4(n,m,x))).O(2*n)\n",
    "    # S(x) instead of x in df of a1 to avoid an error message\n",
    "    # after use of the stripQuotationMarks command below.\n",
    "    a2 = S(a1).O(n+1)\n",
    "    return a2 # applying S to argument of exp is key.\n",
    "def J(n,m):\n",
    "    exn = exNo3c(n+2,m)\n",
    "    jnm = 1/exn.reverse()\n",
    "    return jnm.O(n+1) # Jtest is faster than J, and they agree.\n",
    "def normalJ(n,m):\n",
    "    f = J(n,m)\n",
    "    return f.truncate(n+1)\n",
    "def Jcoefficient(n,m):\n",
    "    f = J(n+2,m)\n",
    "    f1 = f.truncate(n+1)\n",
    "    f1=f1.list()\n",
    "    f1=Set(f1)\n",
    "    g1 = f.truncate(n)\n",
    "    g1 = g1.list()\n",
    "    g1 = set(g1)\n",
    "    h = f1.difference(g1)\n",
    "    h = h.list()\n",
    "    return h[0]\n",
    "def xjNewStep(n,m): \n",
    "    f=J(n,m)\n",
    "    fl=f.list()\n",
    "    return (sum(c*x**i*(m**3*2**6)**i for i,c in enumerate(fl)))\n",
    "def xjNew(n,m):\n",
    "    return xjNewStep(n-1,m)\n",
    "def xjNewCoefficient(n,m):\n",
    "    if n>0:return (xjNew(n,m)-xjNew(n-1,m))/x^n\n",
    "    if n==0:return 1\n",
    "def xjNewTest(n,m):\n",
    "    return D(xjNewStep(n-1,m))\n",
    "def j(n,m):return L(xjNew(n,m)/x)\n",
    "\n",
    "def H4strike(n,m):\n",
    "    jay=J(n+1,m)\n",
    "    djay=x*derivative(jay,x) # bc variable is tau, not x; chain rule.\n",
    "    numerator = djay^2\n",
    "    denominator = jay*(jay-1)\n",
    "    poly=((S(numerator/denominator)^(1/(m-2))).O(n+1)).polynomial()\n",
    "    polylist=poly.list()\n",
    "    polydegree=poly.degree()\n",
    "    answer=sum(polylist[k]*(x*m^3*2^6)^k for k in [0..polydegree])\n",
    "    return answer\n",
    "\n",
    "def polynomialCoefficient(n,poly):\n",
    "    return poly.list()[n]\n",
    "def factorpairToFactor(factorpair):\n",
    "    (monomial,exponent)=factorpair\n",
    "    return monomial^exponent\n",
    "def numericalfactor(polynomial):\n",
    "    fp=polynomial.factor()\n",
    "    lst=[factorpairToFactor(factorpair) for factorpair in fp]\n",
    "    return polynomial/product(lst)\n",
    "def lastfactor(polynomial):\n",
    "    fp=polynomial.factor()\n",
    "    fp=FiniteEnumeratedSet(fp)\n",
    "    return factorpairToFactor(fp.last())\n",
    "def reduced(polynomial):\n",
    "    return numericalfactor(polynomial)*lastfactor(polynomial)\n",
    "def stripQuotationMarks(string):\n",
    "    var('x')\n",
    "    return sage_eval(string,locals={'x':x})\n",
    "def quotientFOvrG(f,g) : \n",
    "    return (f.maxima_methods().divide(g))[0]\n",
    "def remainderFOvrG(f,g) : \n",
    "    return (f.maxima_methods().divide(g))[1]\n",
    "def factor(polynomial):\n",
    "    fp=polynomial.factor()\n",
    "    return fp\n",
    "def numberOfFactors(polynomial):\n",
    "    fp=polynomial.factor()\n",
    "    return len(fp)\n",
    "def factorK(polynomial,k):\n",
    "    fp=factor(h)\n",
    "    return fp[k-1]\n",
    "def factorList(polynomial):\n",
    "    answer=[]\n",
    "    nf=numberOfFactors(polynomial)\n",
    "    for k in [1..nf]:\n",
    "        answer=answer+[factorK(polynomial,k)]\n",
    "    return answer\n",
    "def polynomialExponentList(polynomial):\n",
    "    pel=[]\n",
    "    fp=polynomial.factor()\n",
    "    lf=len(fp)\n",
    "    for n in [0..lf-1]:\n",
    "        part = fp[n]\n",
    "        (base,exponent) = part\n",
    "        pel=pel+[exponent]\n",
    "    return pel\n",
    "def polynomialFactorBaseList(polynomial):\n",
    "    fbl=[]\n",
    "    fp=polynomial.factor()\n",
    "    lf=len(fp)\n",
    "    for n in [0..lf-1]:\n",
    "        part = fp[n]\n",
    "        (base,exponent) = part\n",
    "        fbl=fbl+[base]\n",
    "    return fbl\n",
    "\n",
    "def division(dividend, divisor) : \n",
    "    quotient=(dividend._maxima_().divide(divisor).sage())[0] \n",
    "    remainder=(dividend._maxima_().divide(divisor).sage())[1] \n",
    "    return (quotient,remainder)"
   ]
  },
  {
   "cell_type": "code",
   "execution_count": 5,
   "metadata": {},
   "outputs": [
    {
     "name": "stdout",
     "output_type": "stream",
     "text": [
      "30240*x^5 + 17520*x^4 + 6720*x^3 + 2160*x^2 + 240*x + 1\n",
      "5\n",
      "[1, 240, 2160, 6720, 17520, 30240]\n"
     ]
    }
   ],
   "source": [
    "poly=H4strike(5,3);\n",
    "print(poly)\n",
    "print(poly.degree())\n",
    "print list(poly)"
   ]
  },
  {
   "cell_type": "code",
   "execution_count": 6,
   "metadata": {},
   "outputs": [
    {
     "data": {
      "text/plain": [
       "x^-1 + 744 + 196884*x + 21493760*x^2 + 864299970*x^3 + 20245856256*x^4"
      ]
     },
     "execution_count": 6,
     "metadata": {},
     "output_type": "execute_result"
    }
   ],
   "source": [
    "j(5,3)"
   ]
  },
  {
   "cell_type": "code",
   "execution_count": 2,
   "metadata": {},
   "outputs": [
    {
     "name": "stdout",
     "output_type": "stream",
     "text": [
      "--------------------------------------------------------------------------\n",
      "[1, 240, 240]\n",
      "--------------------------------------------------------------------------\n",
      "[2, 2160, 2160]\n",
      "--------------------------------------------------------------------------\n",
      "[3, 6720, 6720]\n",
      "--------------------------------------------------------------------------\n",
      "[4, 17520, 17520]\n",
      "--------------------------------------------------------------------------\n",
      "[5, 30240, 30240]\n",
      "--------------------------------------------------------------------------\n",
      "[6, 60480, 60480]\n",
      "--------------------------------------------------------------------------\n",
      "[7, 82560, 82560]\n",
      "--------------------------------------------------------------------------\n",
      "[8, 140400, 140400]\n",
      "--------------------------------------------------------------------------\n",
      "[9, 181680, 181680]\n",
      "--------------------------------------------------------------------------\n",
      "[10, 272160, 272160]\n",
      "--------------------------------------------------------------------------\n",
      "[11, 319680, 319680]\n",
      "--------------------------------------------------------------------------\n",
      "[12, 490560, 490560]\n"
     ]
    }
   ],
   "source": [
    "no=[]\n",
    "polystrike=H4strike(12,3)\n",
    "polystrikelist=polystrike.list()\n",
    "for k in [1..12]:\n",
    "    print \"--------------------------------------------------------------------------\"\n",
    "    print [k,240*sigma(k,3),polystrikelist[k]]"
   ]
  },
  {
   "cell_type": "code",
   "execution_count": 8,
   "metadata": {},
   "outputs": [
    {
     "name": "stdout",
     "output_type": "stream",
     "text": [
      "[0, 0, 0, 0, 0, 0, 0, 0, 0, 0, 0, 0, 0, 0, 0, 0, 0, 0, 0, 0, 0, 0, 0, 0, 0, 0, 0, 0, 0, 0, 0, 0, 0, 0, 0, 0, 0, 0, 0, 0, 0, 0, 0, 0, 0, 0, 0, 0, 0, 0, 0, 0, 0, 0, 0, 0, 0, 0, 0, 0, 0, 0, 0, 0, 0, 0, 0, 0, 0, 0, 0, 0, 0, 0, 0, 0, 0, 0, 0, 0, 0, 0, 0, 0, 0, 0, 0, 0, 0, 0, 0, 0, 0, 0, 0, 0, 0, 0, 0, 0]\n"
     ]
    }
   ],
   "source": [
    "diffs=[]\n",
    "poly=H4strike(100,3)\n",
    "plist=poly.list()\n",
    "for k in [1..poly.degree()]:\n",
    "    diffs=diffs+[240*sigma(k,3)-plist[k]]\n",
    "print diffs"
   ]
  },
  {
   "cell_type": "code",
   "execution_count": null,
   "metadata": {},
   "outputs": [],
   "source": []
  }
 ],
 "metadata": {
  "kernelspec": {
   "display_name": "SageMath 9.1",
   "language": "sage",
   "name": "sagemath"
  },
  "language_info": {
   "codemirror_mode": {
    "name": "ipython",
    "version": 2
   },
   "file_extension": ".py",
   "mimetype": "text/x-python",
   "name": "python",
   "nbconvert_exporter": "python",
   "pygments_lexer": "ipython2",
   "version": "2.7.15"
  }
 },
 "nbformat": 4,
 "nbformat_minor": 4
}
