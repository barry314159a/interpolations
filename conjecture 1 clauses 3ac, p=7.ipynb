{
 "cells": [
  {
   "cell_type": "code",
   "execution_count": 1,
   "metadata": {},
   "outputs": [],
   "source": [
    "D.<x> = PolynomialRing(QQ)\n",
    "R.<x> = PolynomialRing(QQ)\n",
    "C.<x> = PolynomialRing(CC)\n",
    "S = PowerSeriesRing(QQ,'x', default_prec=300)\n",
    "#S.<x,y>=PowerSeriesRing(QQ,default_prec=300)\n",
    "# Using \"R = PolynomialRing(QQ,'x')\" produces an error.\n",
    "# Yet using S as defined here is fine (see definition of Fraleigh4 below)\n",
    "# But S = PowerSeriesRing(QQ,'x','y') also produces an error.\n",
    "def pochhammer(x,n):\n",
    "    return product ([x+k for k in [0..n-1]])\n",
    "def cRaleigh2(alpha,beta,nu):\n",
    "    pchhmrA = pochhammer(alpha,nu)\n",
    "    pchhmrB = pochhammer(beta,nu)\n",
    "    fnu=factorial(nu)\n",
    "    answer = D(pchhmrA*pchhmrB/fnu^2)\n",
    "    return answer\n",
    "def term(alpha,beta,p):\n",
    "    return D(1/(alpha + p) + 1/(beta + p) - 2/(1 + p))\n",
    "def eRaleigh(alpha, beta, nu):\n",
    "    return D(sum([term(alpha, beta, p) for p in [0..nu - 1]]))\n",
    "def FstarRaleigh2(alpha,beta,u,terms):\n",
    "    fsr = sum([cRaleigh2(alpha, beta, nu)*eRaleigh(alpha,beta,nu)*u^nu for nu in [1..terms]])\n",
    "    return D(fsr)\n",
    "def Fraleigh2(alpha,beta,u,terms): \n",
    "    return D(sum([cRaleigh2(alpha,beta,nu)*u^nu for nu in [0..terms]]))\n",
    "def FstarRaleigh3(n,m,x):\n",
    "    alpha = (1/2-1/m)/2\n",
    "    beta = (1/2+1/m)/2\n",
    "    fsr2 = FstarRaleigh2(alpha,beta,x,n)\n",
    "    return D(fsr2)\n",
    "def Fraleigh4(n,m,x):\n",
    "    alpha = (1/2-1/m)/2\n",
    "    beta = (1/2+1/m)/2\n",
    "    fr2 = Fraleigh2(alpha,beta,x,n)\n",
    "    return D(fr2)\n",
    "def exNo3c(n,m,x):\n",
    "    a1 = S(x)*exp(S(FstarRaleigh3(n,m,x)/Fraleigh4(n,m,x))).O(2*n)\n",
    "    # S(x) instead of x in df of a1 to avoid an error message\n",
    "    # after use of the stripQuotationMarks command below.\n",
    "    a2 = S(a1).O(n+1)\n",
    "    return a2 # applying S to argument of exp is key.\n",
    "def J(n,m,x):\n",
    "    exn = exNo3c(n+2,m,x)\n",
    "    jnm = 1/exn.reverse()\n",
    "    return jnm.O(n+1) # Jtest is faster than J, and they agree.\n",
    "def normalJ(n,m,x):\n",
    "    f = J(n,m,x)\n",
    "    return f.truncate(n+1)\n",
    "def Jcoefficient(n,m,x):\n",
    "    f = J(n+2,m,x)\n",
    "    f1 = f.truncate(n+1)\n",
    "    f1=f1.list()\n",
    "    f1=Set(f1)\n",
    "    g1 = f.truncate(n)\n",
    "    g1 = g1.list()\n",
    "    g1 = set(g1)\n",
    "    h = f1.difference(g1)\n",
    "    h = h.list()\n",
    "    return h[0]\n",
    "def xjNewStep(n,m,x): \n",
    "    f=J(n,m,x)\n",
    "    fl=f.list()\n",
    "    return (sum(c*x**i*(m**3*2**6)**i for i,c in enumerate(fl)))\n",
    "def xjNew(n,m,x):\n",
    "    return xjNewStep(n-1,m,x)\n",
    "def xjNewCoefficient(n,m,x):\n",
    "    if n>0:return (xjNew(n,m,x)-xjNew(n-1,m,x))/x^n\n",
    "    if n==0:return 1\n",
    "def xjNewTest(n,m,x):\n",
    "    return D(xjNewStep(n-1,m,x))\n",
    "def polynomialCoefficient(n,poly):\n",
    "    return poly.list()[n]\n",
    "def factorpairToFactor(factorpair):\n",
    "    (monomial,exponent)=factorpair\n",
    "    return monomial^exponent\n",
    "def numericalfactor(polynomial):\n",
    "    fp=polynomial.factor()\n",
    "    lst=[factorpairToFactor(factorpair) for factorpair in fp]\n",
    "    return polynomial/product(lst)\n",
    "def lastfactor(polynomial):\n",
    "    fp=polynomial.factor()\n",
    "    fp=FiniteEnumeratedSet(fp)\n",
    "    return factorpairToFactor(fp.last())\n",
    "def reduced(polynomial):\n",
    "    return numericalfactor(polynomial)*lastfactor(polynomial)\n",
    "def stripQuotationMarks(string):\n",
    "    var('x')\n",
    "    return sage_eval(string,locals={'x':x})\n",
    "def primeFactors(n):\n",
    "    answer=[]\n",
    "    lf=list(n.factor())\n",
    "    length=len(lf)\n",
    "    for k in [0..length-1]:\n",
    "        pair=lf[k]\n",
    "        (base,exponent)=pair\n",
    "        answer=answer+[[base]]\n",
    "    return(flatten(answer))\n",
    "def primeFactorsIn(lst):\n",
    "    ld=len(lst)\n",
    "    primelist=[]\n",
    "    for k in [0..ld-1]:\n",
    "        a=ZZ(lst[k])\n",
    "        primelist=primelist+[primeFactors(a)]\n",
    "    return flatten(primelist)\n",
    "def den(a):\n",
    "    if a in ZZ:return 1\n",
    "    else:return a.denominator()\n",
    "def listdens(lst):\n",
    "    return list(den(a) for a in lst)\n",
    "def polynomialdenominator(poly):return lcm(listdens(poly))\n",
    "def polynomialnumerator(poly):\n",
    "    return expand(poly*polynomialdenominator(poly))\n",
    "def num(a):return a.numerator()\n",
    "def prime(n):\n",
    "    P=Primes()\n",
    "    return P.unrank(n-1)\n",
    "def inclusiveListPrimesTo(n):\n",
    "    if is_prime(n):\n",
    "        return list(primes(n+1))\n",
    "    else:\n",
    "        return list(primes(n))\n",
    "def chunk(k,list):\n",
    "    chnk=[]\n",
    "    for n in [k..len(list)-1]:\n",
    "        chnk=chnk+[list[n]]\n",
    "    return chnk\n",
    "def drop(m,lst): return list(Set(lst).difference({m}))\n",
    "def sort(list):\n",
    "    answr=[]\n",
    "    chnk=list\n",
    "    for n in [0..len(list)-1]:\n",
    "        m = min(chnk)\n",
    "        answr=answr+[m]\n",
    "        chnk=drop(m,chnk)\n",
    "    return answr\n",
    "def ord(p,n):return QQ.valuation(p)(n)\n",
    "def base_conversion(number, base_from, base_to):  # by Vishnu Namboothiri\n",
    "# https://ask.sagemath.org/question/9657/how-to-output-decimal-numbers-in-different-radix/\n",
    "    if(base_from==10):\n",
    "        return stripQuotationMarks((number.str(base=base_to)))\n",
    "    else:\n",
    "        decimal = Integer(str(number), base=base_from)\n",
    "        return (stripQuotationMarks(decimal.str(base=base_to)))\n",
    "def lastFactorWithIntegralFactors(polynomial):\n",
    "    return polynomialnumerator(lastfactor(polynomial))\n",
    "def numericalFactorWithIntegralFactors(polynomial):\n",
    "    nf=numericalfactor(polynomial);\n",
    "    pd=polynomialdenominator(lastfactor(polynomial))\n",
    "    return nf/pd\n",
    "\n",
    "\n",
    "def primeDivisors(n):\n",
    "    pd=[]\n",
    "    n=n\n",
    "    fn=factor(n)\n",
    "    ln=len(fn)\n",
    "    for k in [0..ln-1]:\n",
    "        part = fn[k]\n",
    "        (prime,exponent) = part\n",
    "        pd = pd + [prime]\n",
    "    return pd \n",
    "def fOverField(f,prime,power):\n",
    "    answer=[]\n",
    "    T = GF(prime^power)\n",
    "    G.<t>= GF(prime^power)\n",
    "    U.<x> = T[]\n",
    "    ppoly = U(f)\n",
    "    expr=str(ppoly)\n",
    "    var('x')\n",
    "    fp=ppoly.factor()\n",
    "    return ppoly\n",
    "\n",
    "###################### following two routines disagree ####################\n",
    "def factorOverField(f,prime,power):\n",
    "    answer=[]\n",
    "    T = GF(prime^power,'t')\n",
    "    G.<t>= GF(prime^power)\n",
    "    U.<x> = T[]\n",
    "    ppoly = U(f)\n",
    "    expr=str(ppoly)\n",
    "    var('x')\n",
    "    fp=ppoly.factor()\n",
    "    return fp\n",
    "\n",
    "def factorOverField2(poly,prime,power,j):\n",
    "    sd = leastSplittingDegree(poly,prime,bound)\n",
    "    T=GF(prime^j)\n",
    "    G.<t>= GF(prime^sd)\n",
    "    U.<x> = T[]\n",
    "    ppoly=U(poly)\n",
    "    fpp=ppoly.factor()\n",
    "    return fpp\n",
    "\n",
    "############################\n",
    "\n",
    "#######################################################\n",
    "# splitting tests below fail at  e.g. f = x + 1 \n",
    "############################################################\n",
    "\n",
    "def splitsTF(f,prime,power):\n",
    "    T = GF(prime^power)\n",
    "    U.<x> = T[]\n",
    "    g=U(f)\n",
    "    gf=g.factor()\n",
    "    lnf = len(gf)-1\n",
    "    for nn in [0..lnf]:\n",
    "        part = gf[nn]\n",
    "        (monomial,exponent) = part\n",
    "        mdx = monomial.degree()\n",
    "        if mdx > 1:return(False)\n",
    "    return(True)\n",
    "\n",
    "def leastSplittingDegree(f,prime,bound):\n",
    "    for power in [1..bound]:\n",
    "        tf=splitsTF(f,prime,power)\n",
    "        if tf == True:return power\n",
    "    return -1\n",
    "\n",
    "#########################################################\n",
    "\n",
    "def firstNprimes(n):\n",
    "    P=Primes()\n",
    "    first=[]\n",
    "    for k in [0..n-1]:\n",
    "        first=first+[P.unrank(k)]\n",
    "    return first\n",
    "\n",
    "def slopeExistsTF(pairlist):\n",
    "    lenth=len(pairlist)\n",
    "    if lenth<3:return False\n",
    "    slopes=[]\n",
    "    for k in [1..lenth-1]:\n",
    "        pair1=pairlist[k-1]\n",
    "        abscissa1=pair1[0]\n",
    "        ordinate1=pair1[1]\n",
    "        pair2=pairlist[k]\n",
    "        abscissa2=pair2[0]\n",
    "        ordinate2=pair2[1]\n",
    "        dx=abscissa2-abscissa1\n",
    "        if dx == 0:return False\n",
    "        dy=ordinate2-ordinate1\n",
    "        slope=dy/dx\n",
    "        slopes=slopes+[slope]\n",
    "    slopes=Set(slopes)\n",
    "    if len(slopes) == 1:\n",
    "        return [True,slopes[0]]\n",
    "    if len(slopes) > 1:\n",
    "        return False \n",
    "    \n",
    "def zeroOfLinearMonomial(monomial,x):return x-monomial\n",
    "\n",
    "def totalDegreeOverField(f,prime,power):\n",
    "    T = GF(prime^power,'t')\n",
    "    U.<x> = T[]\n",
    "    g=U(f)\n",
    "    gf=g.factor()\n",
    "    lnf = len(gf)-1\n",
    "    td=0\n",
    "    for nn in [0..lnf]:\n",
    "        part = gf[nn]\n",
    "        (monomial,exponent) = part\n",
    "        td=td+exponent\n",
    "    return td\n"
   ]
  },
  {
   "cell_type": "code",
   "execution_count": null,
   "metadata": {},
   "outputs": [],
   "source": [
    "## printed output has been snipped\n",
    "\n",
    "import pickle\n",
    "wfile=open('/Users/barrybrent/run1jun21no1.txt','a')\n",
    "data=[]\n",
    "for m in [3..500]:\n",
    "    print m\n",
    "    data=data+[[m,normalJ(200,m)]]\n",
    "s=pickle.dumps(str(data))\n",
    "wfile.write(s)\n",
    "wfile.close()\n",
    "#########################\n",
    "import pickle\n",
    "rfile = open('/Users/barrybrent/run1jun21no1.txt','r')\n",
    "rs=pickle.load(rfile)\n",
    "rfile.close()\n",
    "s=stripQuotationMarks(rs)\n",
    "polydata=[]\n",
    "import time\n",
    "wfile = open('/Users/barrybrent/run3jun21no1.txt','a') # xJ polynomials\n",
    "for n in [0..200]:\n",
    "    start = time.time()\n",
    "    data=[]\n",
    "    for k in [0..len(s)-1]:\n",
    "        print (n,k,time.time()-start)\n",
    "        m = s[k][0]\n",
    "        poly=x*s[k][1] \n",
    "        cf=polynomialCoefficient(n,poly)\n",
    "        data=data+[[m,cf*m^(2*n+2)]]\n",
    "    rl=R.lagrange_polynomial(data)\n",
    "    polydata=polydata+[[n,rl]] \n",
    "    finish = time.time()\n",
    "    \n",
    "t = pickle.dumps(str(polydata))\n",
    "wfile.write(t)\n",
    "wfile.close()"
   ]
  },
  {
   "cell_type": "code",
   "execution_count": 21,
   "metadata": {},
   "outputs": [
    {
     "name": "stdout",
     "output_type": "stream",
     "text": [
      "[0, 0, 0, 0, 0, 0, 0, 0, 0, 0, 0, 0, 0, 0, 0, 0, 0, 0, 0, 0, 0, 0, 0, 0, 0, 0, 0, 0, 0, 0, 0, 0, 0, 0, 0, 0, 0, 0, 0, 0, 0, 0, 0, 0, 0, 0, 0, 0, 0, 0, 0, 0, 0, 0, 0, 0, 0, 0, 0, 0, 0, 0, 0, 0, 0, 0, 0, 0, 0, 0, 0, 0, 0, 0, 0, 0, 0, 0, 0, 0, 0, 0, 0, 0, 0, 0, 0, 0, 0, 0, 0, 0, 0, 0, 0, 0, 0, 0, 0, 0, 0, 0, 0, 0, 0, 0, 0, 0, 0, 0, 0, 0, 0, 0, 0, 0, 0, 0, 0, 0, 0, 0, 0, 0, 0, 0, 0, 0, 0, 0, 0, 0, 0, 0, 0, 0, 0, 0, 0, 0, 0, 0, 0, 0, 0, 0, 0, 0, 0, 0, 0, 0, 0, 0, 0, 0, 0, 0, 0, 0, 0, 0, 0, 0, 0, 0, 0, 0, 0, 0, 0, 0, 0, 0, 0, 0, 0, 0, 0, 0, 0, 0, 0, 0, 0, 0, 0, 0, 0, 0, 0, 0, 0, 0, 0, 0, 0, 0, 0, 0, 0]\n"
     ]
    }
   ],
   "source": [
    "import pickle\n",
    "rfile = open('/Users/barrybrent/run3jun21no1.txt','r') # xJ polynomials\n",
    "rs=pickle.load(rfile)\n",
    "rfile.close()\n",
    "s=stripQuotationMarks(rs)\n",
    "data=[]\n",
    "for k in [0..len(s)-1]:\n",
    "    index=s[k][0]\n",
    "    data=data+[k-index]\n",
    "print data"
   ]
  },
  {
   "cell_type": "code",
   "execution_count": 4,
   "metadata": {},
   "outputs": [
    {
     "name": "stdout",
     "output_type": "stream",
     "text": [
      "201\n",
      "[1, 3/8*x^4 + 1/2*x^2]\n"
     ]
    }
   ],
   "source": [
    "import pickle\n",
    "rfile = open('/Users/barrybrent/run3jun21no1.txt','r') # xJ polynomials\n",
    "rs=pickle.load(rfile)\n",
    "rfile.close()\n",
    "s=stripQuotationMarks(rs)\n",
    "print len(s)\n",
    "print s[1]"
   ]
  },
  {
   "cell_type": "code",
   "execution_count": 6,
   "metadata": {},
   "outputs": [
    {
     "name": "stdout",
     "output_type": "stream",
     "text": [
      "3/8*x^4 + 1/2*x^2\n",
      "69/1024*x^6 - 1/128*x^4 - 3/64*x^2\n",
      "1/128*x^8 - 29/864*x^6 + 1/216*x^4 + 1/54*x^2\n",
      "5601/8388608*x^10 - 3821/524288*x^8 + 5195/262144*x^6 - 101/32768*x^4 - 303/32768*x^2\n",
      "3/65536*x^12 - 16367/18432000*x^10 + 7961/1382400*x^8 - 21809/1728000*x^6 + 373/172800*x^4 + 373/72000*x^2\n",
      "23003/8589934592*x^14 - 2254159/28991029248*x^12 + 338577733/391378894848*x^10 - 106154827/24461180928*x^8 + 68420351/8153726976*x^6 - 4754693/3057647616*x^4 - 4754693/1528823808*x^2\n"
     ]
    }
   ],
   "source": [
    "import pickle\n",
    "rfile = open('/Users/barrybrent/run3jun21no1.txt','r') # xJ polynomials\n",
    "rs=pickle.load(rfile)\n",
    "rfile.close()\n",
    "s=stripQuotationMarks(rs)\n",
    "bound=12\n",
    "for k in [1..6]:\n",
    "    index=s[k][0]\n",
    "    poly = s[k][1]\n",
    "    print poly"
   ]
  },
  {
   "cell_type": "code",
   "execution_count": 7,
   "metadata": {},
   "outputs": [
    {
     "name": "stdout",
     "output_type": "stream",
     "text": [
      "3*x^4 + 4*x^2\n",
      "69*x^6 - 8*x^4 - 48*x^2\n",
      "27*x^8 - 116*x^6 + 16*x^4 + 64*x^2\n",
      "5601*x^10 - 61136*x^8 + 166240*x^6 - 25856*x^4 - 77568*x^2\n",
      "10125*x^12 - 196404*x^10 + 1273760*x^8 - 2791552*x^6 + 477440*x^4 + 1145856*x^2\n",
      "16769187*x^14 - 486898344*x^12 + 5417243728*x^10 - 27175635712*x^8 + 52546829568*x^6 - 9737611264*x^4 - 19475222528*x^2\n"
     ]
    }
   ],
   "source": [
    "import pickle\n",
    "rfile = open('/Users/barrybrent/run3jun21no1.txt','r') # xJ polynomials\n",
    "rs=pickle.load(rfile)\n",
    "rfile.close()\n",
    "s=stripQuotationMarks(rs)\n",
    "bound=12\n",
    "for k in [1..6]:\n",
    "    index=s[k][0]\n",
    "    poly = s[k][1]\n",
    "    print polynomialnumerator(D(poly))"
   ]
  },
  {
   "cell_type": "code",
   "execution_count": 2,
   "metadata": {},
   "outputs": [
    {
     "name": "stdout",
     "output_type": "stream",
     "text": [
      "[]\n"
     ]
    }
   ],
   "source": [
    "import pickle\n",
    "rfile = open('/Users/barrybrent/run3jun21no1.txt','r') # xJ polynomials\n",
    "rs=pickle.load(rfile)\n",
    "rfile.close()\n",
    "s=stripQuotationMarks(rs)\n",
    "prime=7\n",
    "bound=120\n",
    "data=[]\n",
    "for k in [0..len(s)-1]:\n",
    "    index=s[k][0]\n",
    "    poly = s[k][1]\n",
    "    poly=polynomialnumerator(D(poly))\n",
    "    sd=leastSplittingDegree(poly,prime,bound)\n",
    "    if sd==0:data=data+[index]\n",
    "print data"
   ]
  },
  {
   "cell_type": "code",
   "execution_count": 3,
   "metadata": {},
   "outputs": [
    {
     "name": "stdout",
     "output_type": "stream",
     "text": [
      "{1, 2, 4, 5, 6}\n"
     ]
    }
   ],
   "source": [
    "import pickle\n",
    "rfile = open('/Users/barrybrent/run3jun21no1.txt','r') # xJ polynomials\n",
    "rs=pickle.load(rfile)\n",
    "rfile.close()\n",
    "s=stripQuotationMarks(rs)\n",
    "prime=7\n",
    "bound=120\n",
    "data=[]\n",
    "for k in [0..len(s)-1]:\n",
    "    index=s[k][0]\n",
    "    poly = s[k][1]\n",
    "    poly=polynomialnumerator(D(poly))\n",
    "    sd=leastSplittingDegree(poly,prime,bound)\n",
    "    if sd>0:data=data+[sd]\n",
    "print Set(data)"
   ]
  },
  {
   "cell_type": "code",
   "execution_count": 9,
   "metadata": {},
   "outputs": [
    {
     "name": "stdout",
     "output_type": "stream",
     "text": [
      "[0, 0, 0, 0, 0, 0, 0, 0, 0, 0, 0, 0, 0, 0, 0, 0, 0, 0, 0, 0, 0, 0, 0, 0, 0, 0, 0, 0, 0]\n"
     ]
    }
   ],
   "source": [
    "rfile = open('/Users/barrybrent/run3jun21no1.txt','r') # xJ polynomials\n",
    "rs=pickle.load(rfile)\n",
    "rfile.close()\n",
    "s=stripQuotationMarks(rs)\n",
    "prime=7\n",
    "bound=120\n",
    "data=[]\n",
    "for k in [0..len(s)-1]:\n",
    "    index=s[k][0]\n",
    "    poly = s[k][1]\n",
    "    poly=polynomialnumerator(D(poly))\n",
    "    sd=leastSplittingDegree(poly,prime,bound)\n",
    "    td=totalDegreeOverField(poly,prime,sd)\n",
    "    if mod(index,7)==0:\n",
    "        l=index/7\n",
    "        data=data+[td-(12*l+2)]\n",
    "print data"
   ]
  },
  {
   "cell_type": "code",
   "execution_count": 14,
   "metadata": {},
   "outputs": [
    {
     "name": "stdout",
     "output_type": "stream",
     "text": [
      "[0, 0, 0, 0, 0, 0, 0, 0, 0, 0, 0, 0, 0, 0, 0, 0, 0, 0, 0, 0, 0, 0, 0, 0, 0, 0, 0, 0]\n"
     ]
    }
   ],
   "source": [
    "import pickle\n",
    "rfile = open('/Users/barrybrent/run3jun21no1.txt','r') # xJ polynomials\n",
    "rs=pickle.load(rfile)\n",
    "rfile.close()\n",
    "s=stripQuotationMarks(rs)\n",
    "prime=7\n",
    "bound=120\n",
    "data=[]\n",
    "for k in [0..len(s)-1]:\n",
    "    index=s[k][0]\n",
    "    poly = s[k][1]\n",
    "    poly=polynomialnumerator(D(poly))\n",
    "    sd=leastSplittingDegree(poly,prime,bound)\n",
    "    td=totalDegreeOverField(poly,prime,sd)\n",
    "    if mod(index,prime)==1:\n",
    "        if index>1:\n",
    "            l=(index-1)/prime\n",
    "            data=data+[td-(12*l+6)]\n",
    "print data"
   ]
  },
  {
   "cell_type": "code",
   "execution_count": 17,
   "metadata": {},
   "outputs": [
    {
     "name": "stdout",
     "output_type": "stream",
     "text": [
      "[0, 0, 0, 0, 0, 0, 0, 0, 0, 0, 0, 0, 0, 0, 0, 0, 0, 0, 0, 0, 0, 0, 0, 0, 0, 0, 0, 0, 0]\n"
     ]
    }
   ],
   "source": [
    "import pickle\n",
    "rfile = open('/Users/barrybrent/run3jun21no1.txt','r') # xJ polynomials\n",
    "rs=pickle.load(rfile)\n",
    "rfile.close()\n",
    "s=stripQuotationMarks(rs)\n",
    "prime=7\n",
    "bound=120\n",
    "data=[]\n",
    "for k in [0..len(s)-1]:\n",
    "    index=s[k][0]\n",
    "    poly = s[k][1]\n",
    "    poly=polynomialnumerator(D(poly))\n",
    "    sd=leastSplittingDegree(poly,prime,bound)\n",
    "    td=totalDegreeOverField(poly,prime,sd)\n",
    "    if mod(index,prime)==2:\n",
    "            l=(index-2)/prime\n",
    "            data=data+[td-(12*l+6)]\n",
    "print data"
   ]
  },
  {
   "cell_type": "code",
   "execution_count": 19,
   "metadata": {},
   "outputs": [
    {
     "name": "stdout",
     "output_type": "stream",
     "text": [
      "[0, 0, 0, 0, 0, 0, 0, 0, 0, 0, 0, 0, 0, 0, 0, 0, 0, 0, 0, 0, 0, 0, 0, 0, 0, 0, 0, 0, 0]\n"
     ]
    }
   ],
   "source": [
    "import pickle\n",
    "rfile = open('/Users/barrybrent/run3jun21no1.txt','r') # xJ polynomials\n",
    "rs=pickle.load(rfile)\n",
    "rfile.close()\n",
    "s=stripQuotationMarks(rs)\n",
    "prime=7\n",
    "bound=120\n",
    "data=[]\n",
    "residue=3\n",
    "for k in [0..len(s)-1]:\n",
    "    index=s[k][0]\n",
    "    poly = s[k][1]\n",
    "    poly=polynomialnumerator(D(poly))\n",
    "    sd=leastSplittingDegree(poly,prime,bound)\n",
    "    td=totalDegreeOverField(poly,prime,sd)\n",
    "    if mod(index,prime)==residue:\n",
    "            l=(index-residue)/prime\n",
    "            data=data+[td-(12*l+8)]\n",
    "print data"
   ]
  },
  {
   "cell_type": "code",
   "execution_count": 21,
   "metadata": {},
   "outputs": [
    {
     "name": "stdout",
     "output_type": "stream",
     "text": [
      "[0, 0, 0, 0, 0, 0, 0, 0, 0, 0, 0, 0, 0, 0, 0, 0, 0, 0, 0, 0, 0, 0, 0, 0, 0, 0, 0, 0, 0]\n"
     ]
    }
   ],
   "source": [
    "import pickle\n",
    "rfile = open('/Users/barrybrent/run3jun21no1.txt','r') # xJ polynomials\n",
    "rs=pickle.load(rfile)\n",
    "rfile.close()\n",
    "s=stripQuotationMarks(rs)\n",
    "prime=7\n",
    "bound=120\n",
    "data=[]\n",
    "residue=4\n",
    "for k in [0..len(s)-1]:\n",
    "    index=s[k][0]\n",
    "    poly = s[k][1]\n",
    "    poly=polynomialnumerator(D(poly))\n",
    "    sd=leastSplittingDegree(poly,prime,bound)\n",
    "    td=totalDegreeOverField(poly,prime,sd)\n",
    "    if mod(index,prime)==residue:\n",
    "            l=(index-residue)/prime\n",
    "            data=data+[td-(12*l+10)]\n",
    "print data"
   ]
  },
  {
   "cell_type": "code",
   "execution_count": 23,
   "metadata": {},
   "outputs": [
    {
     "name": "stdout",
     "output_type": "stream",
     "text": [
      "[0, 0, 0, 0, 0, 0, 0, 0, 0, 0, 0, 0, 0, 0, 0, 0, 0, 0, 0, 0, 0, 0, 0, 0, 0, 0, 0, 0]\n"
     ]
    }
   ],
   "source": [
    "import pickle\n",
    "rfile = open('/Users/barrybrent/run3jun21no1.txt','r') # xJ polynomials\n",
    "rs=pickle.load(rfile)\n",
    "rfile.close()\n",
    "s=stripQuotationMarks(rs)\n",
    "prime=7\n",
    "bound=120\n",
    "data=[]\n",
    "residue=5\n",
    "for k in [0..len(s)-1]:\n",
    "    index=s[k][0]\n",
    "    poly = s[k][1]\n",
    "    poly=polynomialnumerator(D(poly))\n",
    "    sd=leastSplittingDegree(poly,prime,bound)\n",
    "    td=totalDegreeOverField(poly,prime,sd)\n",
    "    if mod(index,prime)==residue:\n",
    "            l=(index-residue)/prime\n",
    "            data=data+[td-(12*l+12)]\n",
    "print data"
   ]
  },
  {
   "cell_type": "code",
   "execution_count": 26,
   "metadata": {},
   "outputs": [
    {
     "name": "stdout",
     "output_type": "stream",
     "text": [
      "[0, 0, 0, 0, 0, 0, 0, 0, 0, 0, 0, 0, 0, 0, 0, 0, 0, 0, 0, 0, 0, 0, 0, 0, 0, 0, 0, 0]\n"
     ]
    }
   ],
   "source": [
    "import pickle\n",
    "rfile = open('/Users/barrybrent/run3jun21no1.txt','r') # xJ polynomials\n",
    "rs=pickle.load(rfile)\n",
    "rfile.close()\n",
    "s=stripQuotationMarks(rs)\n",
    "prime=7\n",
    "bound=120\n",
    "data=[]\n",
    "residue=6\n",
    "for k in [0..len(s)-1]:\n",
    "    index=s[k][0]\n",
    "    poly = s[k][1]\n",
    "    poly=polynomialnumerator(D(poly))\n",
    "    sd=leastSplittingDegree(poly,prime,bound)\n",
    "    td=totalDegreeOverField(poly,prime,sd)\n",
    "    if mod(index,prime)==residue:\n",
    "            l=(index-residue)/prime\n",
    "            data=data+[td-(12*l+14)]\n",
    "print data"
   ]
  },
  {
   "cell_type": "code",
   "execution_count": 31,
   "metadata": {},
   "outputs": [
    {
     "name": "stdout",
     "output_type": "stream",
     "text": [
      "[[0, 0], [1, 0], [2, 0], [3, 0], [4, 0], [5, 0], [6, 0]]\n"
     ]
    }
   ],
   "source": [
    "import pickle\n",
    "rfile = open('/Users/barrybrent/run3jun21no1.txt','r') # xJ polynomials\n",
    "rs=pickle.load(rfile)\n",
    "rfile.close()\n",
    "s=stripQuotationMarks(rs)\n",
    "prime=7\n",
    "bound=120\n",
    "data=[]\n",
    "for k in [0..6]:\n",
    "    index=s[k][0]\n",
    "    poly = s[k][1]\n",
    "    poly=polynomialnumerator(D(poly))\n",
    "    sd=leastSplittingDegree(poly,prime,bound)\n",
    "    td=totalDegreeOverField(poly,prime,sd)\n",
    "    data=data+[[index,td-(2*index+2)]]\n",
    "print data"
   ]
  },
  {
   "cell_type": "code",
   "execution_count": 32,
   "metadata": {},
   "outputs": [
    {
     "name": "stdout",
     "output_type": "stream",
     "text": [
      "1\n",
      "{1}\n"
     ]
    }
   ],
   "source": [
    "import pickle\n",
    "rfile = open('/Users/barrybrent/run3jun21no1.txt','r') # xJ polynomials\n",
    "rs=pickle.load(rfile)\n",
    "rfile.close()\n",
    "s=stripQuotationMarks(rs)\n",
    "prime=7\n",
    "bound=120\n",
    "data=[]\n",
    "residue=0\n",
    "for k in [0..len(s)-1]:\n",
    "    index=s[k][0]\n",
    "    poly = s[k][1]\n",
    "    poly=polynomialnumerator(D(poly))\n",
    "    sd=leastSplittingDegree(poly,prime,bound)\n",
    "    if mod(index,prime)==residue:\n",
    "        data=data+[sd]\n",
    "setteddata=Set(data)\n",
    "print len(setteddata);print setteddata"
   ]
  },
  {
   "cell_type": "code",
   "execution_count": 33,
   "metadata": {},
   "outputs": [
    {
     "name": "stdout",
     "output_type": "stream",
     "text": [
      "2\n",
      "{1, 4}\n"
     ]
    }
   ],
   "source": [
    "import pickle\n",
    "rfile = open('/Users/barrybrent/run3jun21no1.txt','r') # xJ polynomials\n",
    "rs=pickle.load(rfile)\n",
    "rfile.close()\n",
    "s=stripQuotationMarks(rs)\n",
    "prime=7\n",
    "bound=120\n",
    "data=[]\n",
    "residue=1\n",
    "for k in [0..len(s)-1]:\n",
    "    index=s[k][0]\n",
    "    poly = s[k][1]\n",
    "    poly=polynomialnumerator(D(poly))\n",
    "    sd=leastSplittingDegree(poly,prime,bound)\n",
    "    if mod(index,prime)==residue:\n",
    "        data=data+[sd]\n",
    "setteddata=Set(data)\n",
    "print len(setteddata);print setteddata"
   ]
  },
  {
   "cell_type": "code",
   "execution_count": 35,
   "metadata": {},
   "outputs": [
    {
     "name": "stdout",
     "output_type": "stream",
     "text": [
      "1\n",
      "{1}\n"
     ]
    }
   ],
   "source": [
    "import pickle\n",
    "rfile = open('/Users/barrybrent/run3jun21no1.txt','r') # xJ polynomials\n",
    "rs=pickle.load(rfile)\n",
    "rfile.close()\n",
    "s=stripQuotationMarks(rs)\n",
    "prime=7\n",
    "bound=120\n",
    "data=[]\n",
    "residue=1\n",
    "for k in [1..1]:\n",
    "    index=s[k][0]\n",
    "    poly = s[k][1]\n",
    "    poly=polynomialnumerator(D(poly))\n",
    "    sd=leastSplittingDegree(poly,prime,bound)\n",
    "    if mod(index,prime)==residue:\n",
    "        data=data+[sd]\n",
    "setteddata=Set(data)\n",
    "print len(setteddata);print setteddata"
   ]
  },
  {
   "cell_type": "code",
   "execution_count": 34,
   "metadata": {},
   "outputs": [
    {
     "name": "stdout",
     "output_type": "stream",
     "text": [
      "1\n",
      "{4}\n"
     ]
    }
   ],
   "source": [
    "import pickle\n",
    "rfile = open('/Users/barrybrent/run3jun21no1.txt','r') # xJ polynomials\n",
    "rs=pickle.load(rfile)\n",
    "rfile.close()\n",
    "s=stripQuotationMarks(rs)\n",
    "prime=7\n",
    "bound=120\n",
    "data=[]\n",
    "residue=2\n",
    "for k in [0..len(s)-1]:\n",
    "    index=s[k][0]\n",
    "    poly = s[k][1]\n",
    "    poly=polynomialnumerator(D(poly))\n",
    "    sd=leastSplittingDegree(poly,prime,bound)\n",
    "    if mod(index,prime)==residue:\n",
    "        data=data+[sd]\n",
    "setteddata=Set(data)\n",
    "print len(setteddata);print setteddata"
   ]
  },
  {
   "cell_type": "code",
   "execution_count": 37,
   "metadata": {},
   "outputs": [
    {
     "name": "stdout",
     "output_type": "stream",
     "text": [
      "{(2, 4)}\n",
      "{(3, 2)}\n",
      "{(4, 2)}\n",
      "{(5, 6)}\n",
      "{(6, 5)}\n"
     ]
    }
   ],
   "source": [
    "rfile = open('/Users/barrybrent/run3jun21no1.txt','r') # xJ polynomials\n",
    "rs=pickle.load(rfile)\n",
    "rfile.close()\n",
    "s=stripQuotationMarks(rs)\n",
    "prime=7\n",
    "bound=120\n",
    "for residue in [2..6]:\n",
    "    data=[]\n",
    "    for k in [0..len(s)-1]:\n",
    "        index=s[k][0]\n",
    "        poly = s[k][1]\n",
    "        poly=polynomialnumerator(D(poly))\n",
    "        sd=leastSplittingDegree(poly,prime,bound)\n",
    "        if mod(index,prime)==residue:\n",
    "            data=data+[(residue,sd)]\n",
    "    setteddata=Set(data)\n",
    "    print setteddata"
   ]
  },
  {
   "cell_type": "code",
   "execution_count": null,
   "metadata": {},
   "outputs": [],
   "source": []
  }
 ],
 "metadata": {
  "kernelspec": {
   "display_name": "SageMath 9.1",
   "language": "sage",
   "name": "sagemath"
  },
  "language_info": {
   "codemirror_mode": {
    "name": "ipython",
    "version": 2
   },
   "file_extension": ".py",
   "mimetype": "text/x-python",
   "name": "python",
   "nbconvert_exporter": "python",
   "pygments_lexer": "ipython2",
   "version": "2.7.15"
  }
 },
 "nbformat": 4,
 "nbformat_minor": 2
}
